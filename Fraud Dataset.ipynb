{
 "cells": [
  {
   "cell_type": "markdown",
   "metadata": {},
   "source": [
    "This dataset is a credit card fraud detection dataset obtained from Kaggle (https://www.kaggle.com/mlg-ulb/creditcardfraud), highly imbalanced data with only 0.172% accounting for fraud transactions. In order to classify a transaction as fraud varied machine learning techniques such as Logistic Regression, Logistic Regrssion with Regularization, Random Forests, Support Vector Machines, XGBoost, LightGBM, Neural Networks. SMOTE (Synthetic Minority OverSampling Technique) is used to upsample the minority class. This technique is commonly used for Imbalanced Classifications. Different Hyperparameter tuning techniques such as Exhaustive Grid Search, Random Search, Bayesian Optimization are used to find the optimal tuning parameters for XGBoost and LightGBM. "
   ]
  },
  {
   "cell_type": "markdown",
   "metadata": {},
   "source": [
    "## Importing the required packages"
   ]
  },
  {
   "cell_type": "code",
   "execution_count": 9,
   "metadata": {},
   "outputs": [],
   "source": [
    "import pandas as pd\n",
    "import numpy as np\n",
    "import matplotlib.pyplot as plt\n",
    "import seaborn as sns"
   ]
  },
  {
   "cell_type": "markdown",
   "metadata": {},
   "source": [
    "### Reading the data set for the computation"
   ]
  },
  {
   "cell_type": "code",
   "execution_count": 10,
   "metadata": {},
   "outputs": [],
   "source": [
    "X = pd.read_csv(\"/Users/ruthvik/Downloads/creditcard 2.csv\")"
   ]
  },
  {
   "cell_type": "markdown",
   "metadata": {},
   "source": [
    "There are 284,807 observations in total and 31 different variables, 30 are predictor variables and the target variable is mentioned as Class. Variables V1,V2......V28 are PCA transformed variables. Only time and Amount are not transformed. All the variables are quantitative, only Class variable has been transformed to Categorical.  "
   ]
  },
  {
   "cell_type": "code",
   "execution_count": 11,
   "metadata": {},
   "outputs": [
    {
     "data": {
      "text/plain": [
       "(284807, 31)"
      ]
     },
     "execution_count": 11,
     "metadata": {},
     "output_type": "execute_result"
    }
   ],
   "source": [
    "X.shape"
   ]
  },
  {
   "cell_type": "code",
   "execution_count": 12,
   "metadata": {},
   "outputs": [
    {
     "data": {
      "text/plain": [
       "Time      float64\n",
       "V1        float64\n",
       "V2        float64\n",
       "V3        float64\n",
       "V4        float64\n",
       "V5        float64\n",
       "V6        float64\n",
       "V7        float64\n",
       "V8        float64\n",
       "V9        float64\n",
       "V10       float64\n",
       "V11       float64\n",
       "V12       float64\n",
       "V13       float64\n",
       "V14       float64\n",
       "V15       float64\n",
       "V16       float64\n",
       "V17       float64\n",
       "V18       float64\n",
       "V19       float64\n",
       "V20       float64\n",
       "V21       float64\n",
       "V22       float64\n",
       "V23       float64\n",
       "V24       float64\n",
       "V25       float64\n",
       "V26       float64\n",
       "V27       float64\n",
       "V28       float64\n",
       "Amount    float64\n",
       "Class       int64\n",
       "dtype: object"
      ]
     },
     "execution_count": 12,
     "metadata": {},
     "output_type": "execute_result"
    }
   ],
   "source": [
    "X.dtypes"
   ]
  },
  {
   "cell_type": "code",
   "execution_count": 13,
   "metadata": {},
   "outputs": [],
   "source": [
    "X['Class'] = X['Class'].astype('category')"
   ]
  },
  {
   "cell_type": "code",
   "execution_count": 14,
   "metadata": {},
   "outputs": [
    {
     "data": {
      "text/html": [
       "<div>\n",
       "<style scoped>\n",
       "    .dataframe tbody tr th:only-of-type {\n",
       "        vertical-align: middle;\n",
       "    }\n",
       "\n",
       "    .dataframe tbody tr th {\n",
       "        vertical-align: top;\n",
       "    }\n",
       "\n",
       "    .dataframe thead th {\n",
       "        text-align: right;\n",
       "    }\n",
       "</style>\n",
       "<table border=\"1\" class=\"dataframe\">\n",
       "  <thead>\n",
       "    <tr style=\"text-align: right;\">\n",
       "      <th></th>\n",
       "      <th>Time</th>\n",
       "      <th>V1</th>\n",
       "      <th>V2</th>\n",
       "      <th>V3</th>\n",
       "      <th>V4</th>\n",
       "      <th>V5</th>\n",
       "      <th>V6</th>\n",
       "      <th>V7</th>\n",
       "      <th>V8</th>\n",
       "      <th>V9</th>\n",
       "      <th>...</th>\n",
       "      <th>V21</th>\n",
       "      <th>V22</th>\n",
       "      <th>V23</th>\n",
       "      <th>V24</th>\n",
       "      <th>V25</th>\n",
       "      <th>V26</th>\n",
       "      <th>V27</th>\n",
       "      <th>V28</th>\n",
       "      <th>Amount</th>\n",
       "      <th>Class</th>\n",
       "    </tr>\n",
       "  </thead>\n",
       "  <tbody>\n",
       "    <tr>\n",
       "      <th>0</th>\n",
       "      <td>0.0</td>\n",
       "      <td>-1.359807</td>\n",
       "      <td>-0.072781</td>\n",
       "      <td>2.536347</td>\n",
       "      <td>1.378155</td>\n",
       "      <td>-0.338321</td>\n",
       "      <td>0.462388</td>\n",
       "      <td>0.239599</td>\n",
       "      <td>0.098698</td>\n",
       "      <td>0.363787</td>\n",
       "      <td>...</td>\n",
       "      <td>-0.018307</td>\n",
       "      <td>0.277838</td>\n",
       "      <td>-0.110474</td>\n",
       "      <td>0.066928</td>\n",
       "      <td>0.128539</td>\n",
       "      <td>-0.189115</td>\n",
       "      <td>0.133558</td>\n",
       "      <td>-0.021053</td>\n",
       "      <td>149.62</td>\n",
       "      <td>0</td>\n",
       "    </tr>\n",
       "    <tr>\n",
       "      <th>1</th>\n",
       "      <td>0.0</td>\n",
       "      <td>1.191857</td>\n",
       "      <td>0.266151</td>\n",
       "      <td>0.166480</td>\n",
       "      <td>0.448154</td>\n",
       "      <td>0.060018</td>\n",
       "      <td>-0.082361</td>\n",
       "      <td>-0.078803</td>\n",
       "      <td>0.085102</td>\n",
       "      <td>-0.255425</td>\n",
       "      <td>...</td>\n",
       "      <td>-0.225775</td>\n",
       "      <td>-0.638672</td>\n",
       "      <td>0.101288</td>\n",
       "      <td>-0.339846</td>\n",
       "      <td>0.167170</td>\n",
       "      <td>0.125895</td>\n",
       "      <td>-0.008983</td>\n",
       "      <td>0.014724</td>\n",
       "      <td>2.69</td>\n",
       "      <td>0</td>\n",
       "    </tr>\n",
       "    <tr>\n",
       "      <th>2</th>\n",
       "      <td>1.0</td>\n",
       "      <td>-1.358354</td>\n",
       "      <td>-1.340163</td>\n",
       "      <td>1.773209</td>\n",
       "      <td>0.379780</td>\n",
       "      <td>-0.503198</td>\n",
       "      <td>1.800499</td>\n",
       "      <td>0.791461</td>\n",
       "      <td>0.247676</td>\n",
       "      <td>-1.514654</td>\n",
       "      <td>...</td>\n",
       "      <td>0.247998</td>\n",
       "      <td>0.771679</td>\n",
       "      <td>0.909412</td>\n",
       "      <td>-0.689281</td>\n",
       "      <td>-0.327642</td>\n",
       "      <td>-0.139097</td>\n",
       "      <td>-0.055353</td>\n",
       "      <td>-0.059752</td>\n",
       "      <td>378.66</td>\n",
       "      <td>0</td>\n",
       "    </tr>\n",
       "    <tr>\n",
       "      <th>3</th>\n",
       "      <td>1.0</td>\n",
       "      <td>-0.966272</td>\n",
       "      <td>-0.185226</td>\n",
       "      <td>1.792993</td>\n",
       "      <td>-0.863291</td>\n",
       "      <td>-0.010309</td>\n",
       "      <td>1.247203</td>\n",
       "      <td>0.237609</td>\n",
       "      <td>0.377436</td>\n",
       "      <td>-1.387024</td>\n",
       "      <td>...</td>\n",
       "      <td>-0.108300</td>\n",
       "      <td>0.005274</td>\n",
       "      <td>-0.190321</td>\n",
       "      <td>-1.175575</td>\n",
       "      <td>0.647376</td>\n",
       "      <td>-0.221929</td>\n",
       "      <td>0.062723</td>\n",
       "      <td>0.061458</td>\n",
       "      <td>123.50</td>\n",
       "      <td>0</td>\n",
       "    </tr>\n",
       "    <tr>\n",
       "      <th>4</th>\n",
       "      <td>2.0</td>\n",
       "      <td>-1.158233</td>\n",
       "      <td>0.877737</td>\n",
       "      <td>1.548718</td>\n",
       "      <td>0.403034</td>\n",
       "      <td>-0.407193</td>\n",
       "      <td>0.095921</td>\n",
       "      <td>0.592941</td>\n",
       "      <td>-0.270533</td>\n",
       "      <td>0.817739</td>\n",
       "      <td>...</td>\n",
       "      <td>-0.009431</td>\n",
       "      <td>0.798278</td>\n",
       "      <td>-0.137458</td>\n",
       "      <td>0.141267</td>\n",
       "      <td>-0.206010</td>\n",
       "      <td>0.502292</td>\n",
       "      <td>0.219422</td>\n",
       "      <td>0.215153</td>\n",
       "      <td>69.99</td>\n",
       "      <td>0</td>\n",
       "    </tr>\n",
       "  </tbody>\n",
       "</table>\n",
       "<p>5 rows × 31 columns</p>\n",
       "</div>"
      ],
      "text/plain": [
       "   Time        V1        V2        V3        V4        V5        V6        V7  \\\n",
       "0   0.0 -1.359807 -0.072781  2.536347  1.378155 -0.338321  0.462388  0.239599   \n",
       "1   0.0  1.191857  0.266151  0.166480  0.448154  0.060018 -0.082361 -0.078803   \n",
       "2   1.0 -1.358354 -1.340163  1.773209  0.379780 -0.503198  1.800499  0.791461   \n",
       "3   1.0 -0.966272 -0.185226  1.792993 -0.863291 -0.010309  1.247203  0.237609   \n",
       "4   2.0 -1.158233  0.877737  1.548718  0.403034 -0.407193  0.095921  0.592941   \n",
       "\n",
       "         V8        V9  ...       V21       V22       V23       V24       V25  \\\n",
       "0  0.098698  0.363787  ... -0.018307  0.277838 -0.110474  0.066928  0.128539   \n",
       "1  0.085102 -0.255425  ... -0.225775 -0.638672  0.101288 -0.339846  0.167170   \n",
       "2  0.247676 -1.514654  ...  0.247998  0.771679  0.909412 -0.689281 -0.327642   \n",
       "3  0.377436 -1.387024  ... -0.108300  0.005274 -0.190321 -1.175575  0.647376   \n",
       "4 -0.270533  0.817739  ... -0.009431  0.798278 -0.137458  0.141267 -0.206010   \n",
       "\n",
       "        V26       V27       V28  Amount  Class  \n",
       "0 -0.189115  0.133558 -0.021053  149.62      0  \n",
       "1  0.125895 -0.008983  0.014724    2.69      0  \n",
       "2 -0.139097 -0.055353 -0.059752  378.66      0  \n",
       "3 -0.221929  0.062723  0.061458  123.50      0  \n",
       "4  0.502292  0.219422  0.215153   69.99      0  \n",
       "\n",
       "[5 rows x 31 columns]"
      ]
     },
     "execution_count": 14,
     "metadata": {},
     "output_type": "execute_result"
    }
   ],
   "source": [
    "X.head()"
   ]
  },
  {
   "cell_type": "markdown",
   "metadata": {},
   "source": [
    "The distribution of the target variable"
   ]
  },
  {
   "cell_type": "code",
   "execution_count": 15,
   "metadata": {},
   "outputs": [
    {
     "data": {
      "text/plain": [
       "0    284315\n",
       "1       492\n",
       "Name: Class, dtype: int64"
      ]
     },
     "execution_count": 15,
     "metadata": {},
     "output_type": "execute_result"
    }
   ],
   "source": [
    "X['Class'].value_counts()"
   ]
  },
  {
   "cell_type": "code",
   "execution_count": 16,
   "metadata": {},
   "outputs": [
    {
     "data": {
      "text/html": [
       "<div>\n",
       "<style scoped>\n",
       "    .dataframe tbody tr th:only-of-type {\n",
       "        vertical-align: middle;\n",
       "    }\n",
       "\n",
       "    .dataframe tbody tr th {\n",
       "        vertical-align: top;\n",
       "    }\n",
       "\n",
       "    .dataframe thead th {\n",
       "        text-align: right;\n",
       "    }\n",
       "</style>\n",
       "<table border=\"1\" class=\"dataframe\">\n",
       "  <thead>\n",
       "    <tr style=\"text-align: right;\">\n",
       "      <th></th>\n",
       "      <th>Time</th>\n",
       "      <th>V1</th>\n",
       "      <th>V2</th>\n",
       "      <th>V3</th>\n",
       "      <th>V4</th>\n",
       "      <th>V5</th>\n",
       "      <th>V6</th>\n",
       "      <th>V7</th>\n",
       "      <th>V8</th>\n",
       "      <th>V9</th>\n",
       "      <th>...</th>\n",
       "      <th>V20</th>\n",
       "      <th>V21</th>\n",
       "      <th>V22</th>\n",
       "      <th>V23</th>\n",
       "      <th>V24</th>\n",
       "      <th>V25</th>\n",
       "      <th>V26</th>\n",
       "      <th>V27</th>\n",
       "      <th>V28</th>\n",
       "      <th>Amount</th>\n",
       "    </tr>\n",
       "  </thead>\n",
       "  <tbody>\n",
       "    <tr>\n",
       "      <th>count</th>\n",
       "      <td>284807.000000</td>\n",
       "      <td>2.848070e+05</td>\n",
       "      <td>2.848070e+05</td>\n",
       "      <td>2.848070e+05</td>\n",
       "      <td>2.848070e+05</td>\n",
       "      <td>2.848070e+05</td>\n",
       "      <td>2.848070e+05</td>\n",
       "      <td>2.848070e+05</td>\n",
       "      <td>2.848070e+05</td>\n",
       "      <td>2.848070e+05</td>\n",
       "      <td>...</td>\n",
       "      <td>2.848070e+05</td>\n",
       "      <td>2.848070e+05</td>\n",
       "      <td>2.848070e+05</td>\n",
       "      <td>2.848070e+05</td>\n",
       "      <td>2.848070e+05</td>\n",
       "      <td>2.848070e+05</td>\n",
       "      <td>2.848070e+05</td>\n",
       "      <td>2.848070e+05</td>\n",
       "      <td>2.848070e+05</td>\n",
       "      <td>284807.000000</td>\n",
       "    </tr>\n",
       "    <tr>\n",
       "      <th>mean</th>\n",
       "      <td>94813.859575</td>\n",
       "      <td>3.919560e-15</td>\n",
       "      <td>5.688174e-16</td>\n",
       "      <td>-8.769071e-15</td>\n",
       "      <td>2.782312e-15</td>\n",
       "      <td>-1.552563e-15</td>\n",
       "      <td>2.010663e-15</td>\n",
       "      <td>-1.694249e-15</td>\n",
       "      <td>-1.927028e-16</td>\n",
       "      <td>-3.137024e-15</td>\n",
       "      <td>...</td>\n",
       "      <td>5.085503e-16</td>\n",
       "      <td>1.537294e-16</td>\n",
       "      <td>7.959909e-16</td>\n",
       "      <td>5.367590e-16</td>\n",
       "      <td>4.458112e-15</td>\n",
       "      <td>1.453003e-15</td>\n",
       "      <td>1.699104e-15</td>\n",
       "      <td>-3.660161e-16</td>\n",
       "      <td>-1.206049e-16</td>\n",
       "      <td>88.349619</td>\n",
       "    </tr>\n",
       "    <tr>\n",
       "      <th>std</th>\n",
       "      <td>47488.145955</td>\n",
       "      <td>1.958696e+00</td>\n",
       "      <td>1.651309e+00</td>\n",
       "      <td>1.516255e+00</td>\n",
       "      <td>1.415869e+00</td>\n",
       "      <td>1.380247e+00</td>\n",
       "      <td>1.332271e+00</td>\n",
       "      <td>1.237094e+00</td>\n",
       "      <td>1.194353e+00</td>\n",
       "      <td>1.098632e+00</td>\n",
       "      <td>...</td>\n",
       "      <td>7.709250e-01</td>\n",
       "      <td>7.345240e-01</td>\n",
       "      <td>7.257016e-01</td>\n",
       "      <td>6.244603e-01</td>\n",
       "      <td>6.056471e-01</td>\n",
       "      <td>5.212781e-01</td>\n",
       "      <td>4.822270e-01</td>\n",
       "      <td>4.036325e-01</td>\n",
       "      <td>3.300833e-01</td>\n",
       "      <td>250.120109</td>\n",
       "    </tr>\n",
       "    <tr>\n",
       "      <th>min</th>\n",
       "      <td>0.000000</td>\n",
       "      <td>-5.640751e+01</td>\n",
       "      <td>-7.271573e+01</td>\n",
       "      <td>-4.832559e+01</td>\n",
       "      <td>-5.683171e+00</td>\n",
       "      <td>-1.137433e+02</td>\n",
       "      <td>-2.616051e+01</td>\n",
       "      <td>-4.355724e+01</td>\n",
       "      <td>-7.321672e+01</td>\n",
       "      <td>-1.343407e+01</td>\n",
       "      <td>...</td>\n",
       "      <td>-5.449772e+01</td>\n",
       "      <td>-3.483038e+01</td>\n",
       "      <td>-1.093314e+01</td>\n",
       "      <td>-4.480774e+01</td>\n",
       "      <td>-2.836627e+00</td>\n",
       "      <td>-1.029540e+01</td>\n",
       "      <td>-2.604551e+00</td>\n",
       "      <td>-2.256568e+01</td>\n",
       "      <td>-1.543008e+01</td>\n",
       "      <td>0.000000</td>\n",
       "    </tr>\n",
       "    <tr>\n",
       "      <th>25%</th>\n",
       "      <td>54201.500000</td>\n",
       "      <td>-9.203734e-01</td>\n",
       "      <td>-5.985499e-01</td>\n",
       "      <td>-8.903648e-01</td>\n",
       "      <td>-8.486401e-01</td>\n",
       "      <td>-6.915971e-01</td>\n",
       "      <td>-7.682956e-01</td>\n",
       "      <td>-5.540759e-01</td>\n",
       "      <td>-2.086297e-01</td>\n",
       "      <td>-6.430976e-01</td>\n",
       "      <td>...</td>\n",
       "      <td>-2.117214e-01</td>\n",
       "      <td>-2.283949e-01</td>\n",
       "      <td>-5.423504e-01</td>\n",
       "      <td>-1.618463e-01</td>\n",
       "      <td>-3.545861e-01</td>\n",
       "      <td>-3.171451e-01</td>\n",
       "      <td>-3.269839e-01</td>\n",
       "      <td>-7.083953e-02</td>\n",
       "      <td>-5.295979e-02</td>\n",
       "      <td>5.600000</td>\n",
       "    </tr>\n",
       "    <tr>\n",
       "      <th>50%</th>\n",
       "      <td>84692.000000</td>\n",
       "      <td>1.810880e-02</td>\n",
       "      <td>6.548556e-02</td>\n",
       "      <td>1.798463e-01</td>\n",
       "      <td>-1.984653e-02</td>\n",
       "      <td>-5.433583e-02</td>\n",
       "      <td>-2.741871e-01</td>\n",
       "      <td>4.010308e-02</td>\n",
       "      <td>2.235804e-02</td>\n",
       "      <td>-5.142873e-02</td>\n",
       "      <td>...</td>\n",
       "      <td>-6.248109e-02</td>\n",
       "      <td>-2.945017e-02</td>\n",
       "      <td>6.781943e-03</td>\n",
       "      <td>-1.119293e-02</td>\n",
       "      <td>4.097606e-02</td>\n",
       "      <td>1.659350e-02</td>\n",
       "      <td>-5.213911e-02</td>\n",
       "      <td>1.342146e-03</td>\n",
       "      <td>1.124383e-02</td>\n",
       "      <td>22.000000</td>\n",
       "    </tr>\n",
       "    <tr>\n",
       "      <th>75%</th>\n",
       "      <td>139320.500000</td>\n",
       "      <td>1.315642e+00</td>\n",
       "      <td>8.037239e-01</td>\n",
       "      <td>1.027196e+00</td>\n",
       "      <td>7.433413e-01</td>\n",
       "      <td>6.119264e-01</td>\n",
       "      <td>3.985649e-01</td>\n",
       "      <td>5.704361e-01</td>\n",
       "      <td>3.273459e-01</td>\n",
       "      <td>5.971390e-01</td>\n",
       "      <td>...</td>\n",
       "      <td>1.330408e-01</td>\n",
       "      <td>1.863772e-01</td>\n",
       "      <td>5.285536e-01</td>\n",
       "      <td>1.476421e-01</td>\n",
       "      <td>4.395266e-01</td>\n",
       "      <td>3.507156e-01</td>\n",
       "      <td>2.409522e-01</td>\n",
       "      <td>9.104512e-02</td>\n",
       "      <td>7.827995e-02</td>\n",
       "      <td>77.165000</td>\n",
       "    </tr>\n",
       "    <tr>\n",
       "      <th>max</th>\n",
       "      <td>172792.000000</td>\n",
       "      <td>2.454930e+00</td>\n",
       "      <td>2.205773e+01</td>\n",
       "      <td>9.382558e+00</td>\n",
       "      <td>1.687534e+01</td>\n",
       "      <td>3.480167e+01</td>\n",
       "      <td>7.330163e+01</td>\n",
       "      <td>1.205895e+02</td>\n",
       "      <td>2.000721e+01</td>\n",
       "      <td>1.559499e+01</td>\n",
       "      <td>...</td>\n",
       "      <td>3.942090e+01</td>\n",
       "      <td>2.720284e+01</td>\n",
       "      <td>1.050309e+01</td>\n",
       "      <td>2.252841e+01</td>\n",
       "      <td>4.584549e+00</td>\n",
       "      <td>7.519589e+00</td>\n",
       "      <td>3.517346e+00</td>\n",
       "      <td>3.161220e+01</td>\n",
       "      <td>3.384781e+01</td>\n",
       "      <td>25691.160000</td>\n",
       "    </tr>\n",
       "  </tbody>\n",
       "</table>\n",
       "<p>8 rows × 30 columns</p>\n",
       "</div>"
      ],
      "text/plain": [
       "                Time            V1            V2            V3            V4  \\\n",
       "count  284807.000000  2.848070e+05  2.848070e+05  2.848070e+05  2.848070e+05   \n",
       "mean    94813.859575  3.919560e-15  5.688174e-16 -8.769071e-15  2.782312e-15   \n",
       "std     47488.145955  1.958696e+00  1.651309e+00  1.516255e+00  1.415869e+00   \n",
       "min         0.000000 -5.640751e+01 -7.271573e+01 -4.832559e+01 -5.683171e+00   \n",
       "25%     54201.500000 -9.203734e-01 -5.985499e-01 -8.903648e-01 -8.486401e-01   \n",
       "50%     84692.000000  1.810880e-02  6.548556e-02  1.798463e-01 -1.984653e-02   \n",
       "75%    139320.500000  1.315642e+00  8.037239e-01  1.027196e+00  7.433413e-01   \n",
       "max    172792.000000  2.454930e+00  2.205773e+01  9.382558e+00  1.687534e+01   \n",
       "\n",
       "                 V5            V6            V7            V8            V9  \\\n",
       "count  2.848070e+05  2.848070e+05  2.848070e+05  2.848070e+05  2.848070e+05   \n",
       "mean  -1.552563e-15  2.010663e-15 -1.694249e-15 -1.927028e-16 -3.137024e-15   \n",
       "std    1.380247e+00  1.332271e+00  1.237094e+00  1.194353e+00  1.098632e+00   \n",
       "min   -1.137433e+02 -2.616051e+01 -4.355724e+01 -7.321672e+01 -1.343407e+01   \n",
       "25%   -6.915971e-01 -7.682956e-01 -5.540759e-01 -2.086297e-01 -6.430976e-01   \n",
       "50%   -5.433583e-02 -2.741871e-01  4.010308e-02  2.235804e-02 -5.142873e-02   \n",
       "75%    6.119264e-01  3.985649e-01  5.704361e-01  3.273459e-01  5.971390e-01   \n",
       "max    3.480167e+01  7.330163e+01  1.205895e+02  2.000721e+01  1.559499e+01   \n",
       "\n",
       "       ...           V20           V21           V22           V23  \\\n",
       "count  ...  2.848070e+05  2.848070e+05  2.848070e+05  2.848070e+05   \n",
       "mean   ...  5.085503e-16  1.537294e-16  7.959909e-16  5.367590e-16   \n",
       "std    ...  7.709250e-01  7.345240e-01  7.257016e-01  6.244603e-01   \n",
       "min    ... -5.449772e+01 -3.483038e+01 -1.093314e+01 -4.480774e+01   \n",
       "25%    ... -2.117214e-01 -2.283949e-01 -5.423504e-01 -1.618463e-01   \n",
       "50%    ... -6.248109e-02 -2.945017e-02  6.781943e-03 -1.119293e-02   \n",
       "75%    ...  1.330408e-01  1.863772e-01  5.285536e-01  1.476421e-01   \n",
       "max    ...  3.942090e+01  2.720284e+01  1.050309e+01  2.252841e+01   \n",
       "\n",
       "                V24           V25           V26           V27           V28  \\\n",
       "count  2.848070e+05  2.848070e+05  2.848070e+05  2.848070e+05  2.848070e+05   \n",
       "mean   4.458112e-15  1.453003e-15  1.699104e-15 -3.660161e-16 -1.206049e-16   \n",
       "std    6.056471e-01  5.212781e-01  4.822270e-01  4.036325e-01  3.300833e-01   \n",
       "min   -2.836627e+00 -1.029540e+01 -2.604551e+00 -2.256568e+01 -1.543008e+01   \n",
       "25%   -3.545861e-01 -3.171451e-01 -3.269839e-01 -7.083953e-02 -5.295979e-02   \n",
       "50%    4.097606e-02  1.659350e-02 -5.213911e-02  1.342146e-03  1.124383e-02   \n",
       "75%    4.395266e-01  3.507156e-01  2.409522e-01  9.104512e-02  7.827995e-02   \n",
       "max    4.584549e+00  7.519589e+00  3.517346e+00  3.161220e+01  3.384781e+01   \n",
       "\n",
       "              Amount  \n",
       "count  284807.000000  \n",
       "mean       88.349619  \n",
       "std       250.120109  \n",
       "min         0.000000  \n",
       "25%         5.600000  \n",
       "50%        22.000000  \n",
       "75%        77.165000  \n",
       "max     25691.160000  \n",
       "\n",
       "[8 rows x 30 columns]"
      ]
     },
     "execution_count": 16,
     "metadata": {},
     "output_type": "execute_result"
    }
   ],
   "source": [
    "X.describe()"
   ]
  },
  {
   "cell_type": "markdown",
   "metadata": {},
   "source": [
    "### The Distribution of Amount and Time "
   ]
  },
  {
   "cell_type": "code",
   "execution_count": 9,
   "metadata": {},
   "outputs": [
    {
     "data": {
      "image/png": "[encoded data removed]",
      "text/plain": [
       "<Figure size 432x288 with 1 Axes>"
      ]
     },
     "metadata": {
      "needs_background": "light"
     },
     "output_type": "display_data"
    }
   ],
   "source": [
    "plt.hist(X['Amount'], bins = 100)\n",
    "plt.xlabel('Amount')\n",
    "plt.ylabel('Frequency')\n",
    "plt.show()"
   ]
  },
  {
   "cell_type": "markdown",
   "metadata": {},
   "source": [
    "The Amount variable is right skewed and needs to be log transformed to convert it into normal distribution"
   ]
  },
  {
   "cell_type": "code",
   "execution_count": 10,
   "metadata": {},
   "outputs": [],
   "source": [
    "X1 = X[X['Class'] == 1]\n",
    "X2 = X[X['Class'] == 0]"
   ]
  },
  {
   "cell_type": "code",
   "execution_count": 46,
   "metadata": {},
   "outputs": [
    {
     "data": {
      "image/png": "[encoded data removed]",
      "text/plain": [
       "<Figure size 432x288 with 2 Axes>"
      ]
     },
     "metadata": {
      "needs_background": "light"
     },
     "output_type": "display_data"
    }
   ],
   "source": [
    "fig, (ax1, ax2) = plt.subplots(2, 1)\n",
    "ax1.hist(X1['Amount'], bins = 100)\n",
    "ax1.set_title('Distribution for Fraud Transactions')\n",
    "ax2.hist(X2['Amount'], bins = 10)\n",
    "ax2.set_title('Distribution for Non-Fraud Transactions')\n",
    "plt.tight_layout()\n",
    "plt.show()"
   ]
  },
  {
   "cell_type": "markdown",
   "metadata": {},
   "source": [
    "All the Fraud Transactions amount is less than $2500"
   ]
  },
  {
   "cell_type": "code",
   "execution_count": 82,
   "metadata": {},
   "outputs": [
    {
     "data": {
      "image/png": "[encoded data removed]",
      "text/plain": [
       "<Figure size 1440x1440 with 28 Axes>"
      ]
     },
     "metadata": {
      "needs_background": "light"
     },
     "output_type": "display_data"
    }
   ],
   "source": [
    "#plt.figure(28, figsize = [100,100])\n",
    "f, axes = plt.subplots(7, 4, figsize = (20,20))\n",
    "sns.boxplot(x = X['Class'], y = X['V1'] , ax=axes[0][0])\n",
    "sns.boxplot(x = X['Class'], y = X['V2'] , ax=axes[0][1])\n",
    "sns.boxplot(x = X['Class'], y = X['V3'] , ax=axes[0][2])\n",
    "sns.boxplot(x = X['Class'], y = X['V4'] , ax=axes[0][3])\n",
    "sns.boxplot(x = X['Class'], y = X['V5'] , ax=axes[1][0])\n",
    "sns.boxplot(x = X['Class'], y = X['V6'] , ax=axes[1][1])\n",
    "sns.boxplot(x = X['Class'], y = X['V7'] , ax=axes[1][2])\n",
    "sns.boxplot(x = X['Class'], y = X['V8'] , ax=axes[1][3])\n",
    "sns.boxplot(x = X['Class'], y = X['V9'] , ax=axes[2][0])\n",
    "sns.boxplot(x = X['Class'], y = X['V10'] , ax=axes[2][1])\n",
    "sns.boxplot(x = X['Class'], y = X['V11'] , ax=axes[2][2])\n",
    "sns.boxplot(x = X['Class'], y = X['V12'] , ax=axes[2][3])\n",
    "sns.boxplot(x = X['Class'], y = X['V13'] , ax=axes[3][0])\n",
    "sns.boxplot(x = X['Class'], y = X['V14'] , ax=axes[3][1])\n",
    "sns.boxplot(x = X['Class'], y = X['V15'] , ax=axes[3][2])\n",
    "sns.boxplot(x = X['Class'], y = X['V16'] , ax=axes[3][3])\n",
    "sns.boxplot(x = X['Class'], y = X['V17'] , ax=axes[4][0])\n",
    "sns.boxplot(x = X['Class'], y = X['V18'] , ax=axes[4][1])\n",
    "sns.boxplot(x = X['Class'], y = X['V19'] , ax=axes[4][2])\n",
    "sns.boxplot(x = X['Class'], y = X['V20'] , ax=axes[4][3])\n",
    "sns.boxplot(x = X['Class'], y = X['V21'] , ax=axes[5][0])\n",
    "sns.boxplot(x = X['Class'], y = X['V22'] , ax=axes[5][1])\n",
    "sns.boxplot(x = X['Class'], y = X['V23'] , ax=axes[5][2])\n",
    "sns.boxplot(x = X['Class'], y = X['V24'] , ax=axes[5][3])\n",
    "sns.boxplot(x = X['Class'], y = X['V25'] , ax=axes[6][0])\n",
    "sns.boxplot(x = X['Class'], y = X['V26'] , ax=axes[6][1])\n",
    "sns.boxplot(x = X['Class'], y = X['V27'] , ax=axes[6][2])\n",
    "sns.boxplot(x = X['Class'], y = X['V28'] , ax=axes[6][3])\n",
    "f.tight_layout()\n",
    "plt.show()"
   ]
  },
  {
   "cell_type": "markdown",
   "metadata": {},
   "source": [
    "The variation among the PCA transformed variables V3, V4, V9, V10, V11, V12,V14, V16, V17, V18 is quite significant. These variables might be significant enough to determine the fraud transaction"
   ]
  },
  {
   "cell_type": "code",
   "execution_count": 83,
   "metadata": {},
   "outputs": [
    {
     "data": {
      "image/png": "[encoded data removed]",
      "text/plain": [
       "<Figure size 432x288 with 1 Axes>"
      ]
     },
     "metadata": {
      "needs_background": "light"
     },
     "output_type": "display_data"
    }
   ],
   "source": [
    "plt.hist(X['Time'], bins = 20)\n",
    "plt.xlabel('Time')\n",
    "plt.ylabel('Frequency')\n",
    "plt.show()"
   ]
  },
  {
   "cell_type": "markdown",
   "metadata": {},
   "source": [
    "### Preprocessing the Variables"
   ]
  },
  {
   "cell_type": "code",
   "execution_count": 19,
   "metadata": {},
   "outputs": [],
   "source": [
    "from sklearn import preprocessing"
   ]
  },
  {
   "cell_type": "code",
   "execution_count": 20,
   "metadata": {},
   "outputs": [],
   "source": [
    "# Scaling the Amount variable\n",
    "Amount = X['Amount'].to_numpy()\n",
    "Amount = Amount.reshape(284807,1)\n",
    "# Transforming the above\n",
    "scaler = preprocessing.StandardScaler().fit(Amount)\n",
    "Amount = scaler.transform(Amount)"
   ]
  },
  {
   "cell_type": "code",
   "execution_count": 21,
   "metadata": {},
   "outputs": [],
   "source": [
    "# dropping the original variable and replacing it with the transformed variable\n",
    "X = X.drop(labels = ['Amount'], axis = 1)\n",
    "X['Amount'] = Amount"
   ]
  },
  {
   "cell_type": "code",
   "execution_count": 22,
   "metadata": {},
   "outputs": [],
   "source": [
    "# dropping the time variable, not using for model building \n",
    "X = X.drop(labels = ['Time'], axis = 1)"
   ]
  },
  {
   "cell_type": "code",
   "execution_count": 23,
   "metadata": {},
   "outputs": [],
   "source": [
    "Y = X['Class']\n",
    "X = X.drop(labels = ['Class'], axis = 1)"
   ]
  },
  {
   "cell_type": "markdown",
   "metadata": {},
   "source": [
    "### Splitting the Dataset into Train, Validation, Test"
   ]
  },
  {
   "cell_type": "code",
   "execution_count": 299,
   "metadata": {},
   "outputs": [],
   "source": [
    "from sklearn.model_selection import train_test_split"
   ]
  },
  {
   "cell_type": "code",
   "execution_count": 300,
   "metadata": {},
   "outputs": [],
   "source": [
    "X_train, X_temp, Y_train, Y_temp = train_test_split(X, Y, test_size = 0.2, random_state = 20)"
   ]
  },
  {
   "cell_type": "code",
   "execution_count": 301,
   "metadata": {},
   "outputs": [],
   "source": [
    "X_val, X_test, Y_val, Y_test = train_test_split(X_temp, Y_temp, test_size = 0.5, random_state = 20)"
   ]
  },
  {
   "cell_type": "markdown",
   "metadata": {},
   "source": [
    "### Using Neural Networks to solve the problem "
   ]
  },
  {
   "cell_type": "code",
   "execution_count": 25,
   "metadata": {},
   "outputs": [
    {
     "name": "stderr",
     "output_type": "stream",
     "text": [
      "Using TensorFlow backend.\n"
     ]
    }
   ],
   "source": [
    "import keras\n",
    "from keras import layers\n",
    "from keras.layers import Dense, Activation,Dropout\n",
    "from keras.utils import layer_utils\n",
    "from keras.models import Sequential\n",
    "import keras.backend as K\n",
    "K.set_image_data_format('channels_last')\n",
    "from sklearn.metrics import confusion_matrix, roc_auc_score,f1_score\n",
    "import tensorflow as tf\n",
    "from keras import metrics"
   ]
  },
  {
   "cell_type": "code",
   "execution_count": 303,
   "metadata": {},
   "outputs": [],
   "source": [
    "inputs = X_train.shape[1]"
   ]
  },
  {
   "cell_type": "markdown",
   "metadata": {},
   "source": [
    "Different Activation functions like \"tanh\" , \"Relu\" , \"sigmoid\" are used in the hidden layers and the model is evaluated based on the F1 score. In an imbalanced Fraud dataset, we have to make sure that number of fraud transactions classified as non-fraud should be reduced. We have to reduce number of false negatives. "
   ]
  },
  {
   "cell_type": "code",
   "execution_count": 304,
   "metadata": {},
   "outputs": [
    {
     "name": "stdout",
     "output_type": "stream",
     "text": [
      "Model: \"sequential_4\"\n",
      "_________________________________________________________________\n",
      "Layer (type)                 Output Shape              Param #   \n",
      "=================================================================\n",
      "dense_11 (Dense)             (None, 28)                840       \n",
      "_________________________________________________________________\n",
      "dropout_9 (Dropout)          (None, 28)                0         \n",
      "_________________________________________________________________\n",
      "dense_12 (Dense)             (None, 14)                406       \n",
      "_________________________________________________________________\n",
      "dropout_10 (Dropout)         (None, 14)                0         \n",
      "_________________________________________________________________\n",
      "dense_13 (Dense)             (None, 7)                 105       \n",
      "_________________________________________________________________\n",
      "dropout_11 (Dropout)         (None, 7)                 0         \n",
      "_________________________________________________________________\n",
      "dense_14 (Dense)             (None, 3)                 24        \n",
      "_________________________________________________________________\n",
      "dropout_12 (Dropout)         (None, 3)                 0         \n",
      "_________________________________________________________________\n",
      "dense_15 (Dense)             (None, 1)                 4         \n",
      "=================================================================\n",
      "Total params: 1,379\n",
      "Trainable params: 1,379\n",
      "Non-trainable params: 0\n",
      "_________________________________________________________________\n"
     ]
    }
   ],
   "source": [
    "model = Sequential()\n",
    "\n",
    "model.add(Dense(28, activation = 'relu', input_shape = (inputs,)))\n",
    "model.add(Dropout(0.4))\n",
    "\n",
    "model.add(Dense(14, activation = 'relu'))\n",
    "model.add(Dropout(0.4))\n",
    "\n",
    "model.add(Dense(8, activation = 'relu'))\n",
    "model.add(Dropout(0.4))\n",
    "\n",
    "model.add(Dense(4, activation = 'relu'))\n",
    "model.add(Dropout(0.4))\n",
    "\n",
    "model.add(Dense(1, activation = 'sigmoid'))\n",
    "model.summary()"
   ]
  },
  {
   "cell_type": "code",
   "execution_count": 305,
   "metadata": {},
   "outputs": [],
   "source": [
    "# Choosing the metrics using tensorflow\n",
    "METRICS = [\n",
    "      keras.metrics.TruePositives(name='tp'),\n",
    "      keras.metrics.FalsePositives(name='fp'),\n",
    "      keras.metrics.TrueNegatives(name='tn'),\n",
    "      keras.metrics.FalseNegatives(name='fn'), \n",
    "      keras.metrics.BinaryAccuracy(name='accuracy'),\n",
    "      keras.metrics.Precision(name='precision'),\n",
    "      keras.metrics.Recall(name='recall'),\n",
    "      keras.metrics.AUC(name='auc'),\n",
    "]"
   ]
  },
  {
   "cell_type": "code",
   "execution_count": 306,
   "metadata": {},
   "outputs": [],
   "source": [
    "model.compile(optimizer = 'adam', loss = 'binary_crossentropy', metrics = [METRICS[7]])"
   ]
  },
  {
   "cell_type": "code",
   "execution_count": 307,
   "metadata": {},
   "outputs": [
    {
     "name": "stdout",
     "output_type": "stream",
     "text": [
      "Train on 227845 samples, validate on 28481 samples\n",
      "Epoch 1/10\n",
      "227845/227845 [==============================] - 9s 39us/step - loss: 0.0839 - auc: 0.6602 - val_loss: 0.0062 - val_auc: 0.8991\n",
      "Epoch 2/10\n",
      "227845/227845 [==============================] - 6s 28us/step - loss: 0.0201 - auc: 0.7851 - val_loss: 0.0068 - val_auc: 0.8991\n",
      "Epoch 3/10\n",
      "227845/227845 [==============================] - 7s 29us/step - loss: 0.0123 - auc: 0.8482 - val_loss: 0.0073 - val_auc: 0.9102\n",
      "Epoch 4/10\n",
      "227845/227845 [==============================] - 7s 32us/step - loss: 0.0110 - auc: 0.8650 - val_loss: 0.0077 - val_auc: 0.9193\n",
      "Epoch 5/10\n",
      "227845/227845 [==============================] - 7s 29us/step - loss: 0.0109 - auc: 0.8699 - val_loss: 0.0080 - val_auc: 0.9088\n",
      "Epoch 6/10\n",
      "227845/227845 [==============================] - 7s 29us/step - loss: 0.0110 - auc: 0.8636 - val_loss: 0.0076 - val_auc: 0.9211\n",
      "Epoch 7/10\n",
      "227845/227845 [==============================] - 7s 29us/step - loss: 0.0108 - auc: 0.8658 - val_loss: 0.0079 - val_auc: 0.9097\n",
      "Epoch 8/10\n",
      "227845/227845 [==============================] - 7s 29us/step - loss: 0.0110 - auc: 0.8768 - val_loss: 0.0076 - val_auc: 0.9227\n",
      "Epoch 9/10\n",
      "227845/227845 [==============================] - 7s 29us/step - loss: 0.0108 - auc: 0.8758 - val_loss: 0.0078 - val_auc: 0.8975\n",
      "Epoch 10/10\n",
      "227845/227845 [==============================] - 7s 30us/step - loss: 0.0108 - auc: 0.8740 - val_loss: 0.0078 - val_auc: 0.9102\n"
     ]
    },
    {
     "data": {
      "text/plain": [
       "<keras.callbacks.callbacks.History at 0x1a30253fd0>"
      ]
     },
     "execution_count": 307,
     "metadata": {},
     "output_type": "execute_result"
    }
   ],
   "source": [
    "model.fit(X_train, Y_train, batch_size=64, epochs=10, validation_data=(X_val, Y_val))"
   ]
  },
  {
   "cell_type": "code",
   "execution_count": 454,
   "metadata": {},
   "outputs": [],
   "source": [
    "predictions = model.predict(X_test)"
   ]
  },
  {
   "cell_type": "code",
   "execution_count": 451,
   "metadata": {},
   "outputs": [],
   "source": [
    "predictions = np.where(predictions>0.5 , 1, 0)"
   ]
  },
  {
   "cell_type": "markdown",
   "metadata": {},
   "source": [
    "Predictions for sigmoid activations in hidden layer"
   ]
  },
  {
   "cell_type": "code",
   "execution_count": 442,
   "metadata": {},
   "outputs": [
    {
     "data": {
      "text/plain": [
       "array([[28426,     7],\n",
       "       [    9,    39]])"
      ]
     },
     "execution_count": 442,
     "metadata": {},
     "output_type": "execute_result"
    }
   ],
   "source": [
    "# sigmoid activations \n",
    "confusion_matrix(Y_test, predictions)"
   ]
  },
  {
   "cell_type": "code",
   "execution_count": 445,
   "metadata": {},
   "outputs": [
    {
     "data": {
      "text/plain": [
       "0.963770457449677"
      ]
     },
     "execution_count": 445,
     "metadata": {},
     "output_type": "execute_result"
    }
   ],
   "source": [
    "# sigmoid activations \n",
    "roc_auc_score(Y_test, predictions)"
   ]
  },
  {
   "cell_type": "code",
   "execution_count": 443,
   "metadata": {},
   "outputs": [
    {
     "data": {
      "text/plain": [
       "0.8297872340425533"
      ]
     },
     "execution_count": 443,
     "metadata": {},
     "output_type": "execute_result"
    }
   ],
   "source": [
    "# sigmoid activations\n",
    "f1_score(Y_test, predictions)"
   ]
  },
  {
   "cell_type": "markdown",
   "metadata": {},
   "source": [
    "Predictions for relu activations in hidden layer"
   ]
  },
  {
   "cell_type": "code",
   "execution_count": 428,
   "metadata": {},
   "outputs": [
    {
     "data": {
      "text/plain": [
       "array([[28433,     0],\n",
       "       [   47,     1]])"
      ]
     },
     "execution_count": 428,
     "metadata": {},
     "output_type": "execute_result"
    }
   ],
   "source": [
    "# relu activations\n",
    "confusion_matrix(Y_test, predictions)"
   ]
  },
  {
   "cell_type": "code",
   "execution_count": 430,
   "metadata": {},
   "outputs": [
    {
     "data": {
      "text/plain": [
       "0.9857918908779705"
      ]
     },
     "execution_count": 430,
     "metadata": {},
     "output_type": "execute_result"
    }
   ],
   "source": [
    "# relu activations\n",
    "roc_auc_score(Y_test, predictions)"
   ]
  },
  {
   "cell_type": "code",
   "execution_count": 435,
   "metadata": {},
   "outputs": [
    {
     "data": {
      "text/plain": [
       "0.04081632653061225"
      ]
     },
     "execution_count": 435,
     "metadata": {},
     "output_type": "execute_result"
    }
   ],
   "source": [
    "# relu activations\n",
    "f1_score(Y_test, predictions)"
   ]
  },
  {
   "cell_type": "markdown",
   "metadata": {},
   "source": [
    "Predictions for tanh activations in hidden layer"
   ]
  },
  {
   "cell_type": "code",
   "execution_count": 452,
   "metadata": {},
   "outputs": [
    {
     "data": {
      "text/plain": [
       "array([[28426,     7],\n",
       "       [   10,    38]])"
      ]
     },
     "execution_count": 452,
     "metadata": {},
     "output_type": "execute_result"
    }
   ],
   "source": [
    "# tanh activations\n",
    "confusion_matrix(Y_test, predictions)"
   ]
  },
  {
   "cell_type": "code",
   "execution_count": 455,
   "metadata": {},
   "outputs": [
    {
     "data": {
      "text/plain": [
       "0.9551643336967608"
      ]
     },
     "execution_count": 455,
     "metadata": {},
     "output_type": "execute_result"
    }
   ],
   "source": [
    "# tanh activations\n",
    "roc_auc_score(Y_test, predictions)"
   ]
  },
  {
   "cell_type": "code",
   "execution_count": 453,
   "metadata": {},
   "outputs": [
    {
     "data": {
      "text/plain": [
       "0.8172043010752689"
      ]
     },
     "execution_count": 453,
     "metadata": {},
     "output_type": "execute_result"
    }
   ],
   "source": [
    "# tanh activations\n",
    "f1_score(Y_test, predictions)"
   ]
  },
  {
   "cell_type": "markdown",
   "metadata": {},
   "source": [
    "The F1 score is maximum in case of sigmoid activations as well as the number of false negatives is minimum while using sigmoid activations"
   ]
  },
  {
   "cell_type": "markdown",
   "metadata": {},
   "source": [
    "### Logistic Regression with L2 Regularization"
   ]
  },
  {
   "cell_type": "code",
   "execution_count": 374,
   "metadata": {},
   "outputs": [],
   "source": [
    "# Splitting the dataset to train and test\n",
    "X_train, X_test, Y_train, Y_test = train_test_split(X, Y, test_size = 0.1, random_state = 10)"
   ]
  },
  {
   "cell_type": "code",
   "execution_count": 26,
   "metadata": {},
   "outputs": [],
   "source": [
    "from sklearn.linear_model import LogisticRegressionCV, LogisticRegression\n",
    "from sklearn.model_selection import cross_val_score, KFold"
   ]
  },
  {
   "cell_type": "code",
   "execution_count": 52,
   "metadata": {},
   "outputs": [],
   "source": [
    "clf = LogisticRegressionCV(random_state=0, solver = 'lbfgs', max_iter = 100000, cv = 5).fit(X_train, Y_train)"
   ]
  },
  {
   "cell_type": "code",
   "execution_count": 54,
   "metadata": {},
   "outputs": [
    {
     "data": {
      "text/plain": [
       "array([[ 0.02018542,  0.04562326,  0.01984665,  0.62619405,  0.12776079,\n",
       "        -0.10257627, -0.01024932, -0.19895134, -0.16336404, -0.60391362,\n",
       "         0.04400022, -0.01299055, -0.24945956, -0.54774827, -0.08227262,\n",
       "        -0.29840529, -0.04429864,  0.02917316,  0.01985542, -0.25340689,\n",
       "         0.26183722,  0.3842324 , -0.08658256,  0.06170507, -0.06257499,\n",
       "         0.04960424, -0.39466333, -0.11819105,  0.12997505]])"
      ]
     },
     "execution_count": 54,
     "metadata": {},
     "output_type": "execute_result"
    }
   ],
   "source": [
    "clf.coef_"
   ]
  },
  {
   "cell_type": "code",
   "execution_count": 55,
   "metadata": {},
   "outputs": [],
   "source": [
    "# predicting the class on the test data \n",
    "yhat = clf.predict(X_test)"
   ]
  },
  {
   "cell_type": "code",
   "execution_count": 56,
   "metadata": {},
   "outputs": [],
   "source": [
    "# predicting the probabilities\n",
    "predictions = clf.predict_proba(X_test)"
   ]
  },
  {
   "cell_type": "code",
   "execution_count": 58,
   "metadata": {},
   "outputs": [
    {
     "data": {
      "text/plain": [
       "array([[28427,     6],\n",
       "       [   16,    32]])"
      ]
     },
     "execution_count": 58,
     "metadata": {},
     "output_type": "execute_result"
    }
   ],
   "source": [
    "# confusion matrix\n",
    "confusion_matrix(Y_test, yhat)"
   ]
  },
  {
   "cell_type": "code",
   "execution_count": 59,
   "metadata": {},
   "outputs": [
    {
     "data": {
      "text/plain": [
       "0.744186046511628"
      ]
     },
     "execution_count": 59,
     "metadata": {},
     "output_type": "execute_result"
    }
   ],
   "source": [
    "# f1 score\n",
    "f1_score(Y_test, yhat)"
   ]
  },
  {
   "cell_type": "code",
   "execution_count": 60,
   "metadata": {},
   "outputs": [
    {
     "data": {
      "text/plain": [
       "0.9632124936986365"
      ]
     },
     "execution_count": 60,
     "metadata": {},
     "output_type": "execute_result"
    }
   ],
   "source": [
    "# AUC score \n",
    "roc_auc_score(Y_test,predictions[:,1])"
   ]
  },
  {
   "cell_type": "markdown",
   "metadata": {},
   "source": [
    "### Logistic Regression with L2 Regularization - Tuning the regularization parameter C"
   ]
  },
  {
   "cell_type": "code",
   "execution_count": 25,
   "metadata": {},
   "outputs": [
    {
     "name": "stdout",
     "output_type": "stream",
     "text": [
      "C: 30\n",
      "Coefficients:  [[ 0.06691407  0.07799199  0.05222089  0.78258058  0.16797428 -0.13759239\n",
      "  -0.0564079  -0.17460974 -0.18411375 -0.89436042 -0.00756371  0.13697907\n",
      "  -0.31603623 -0.49344064 -0.06448419 -0.34682088 -0.06303418  0.08511797\n",
      "   0.00704787 -0.48330948  0.32969251  0.50277492 -0.07848427  0.11031793\n",
      "  -0.0843082   0.14531353 -0.80406933 -0.27481341  0.26233494]]\n",
      "Training accuracy: 0.999211941043827\n",
      "Testing accuracy: 0.9991924440855307\n",
      "Confusion Matrix: [[28427     6]\n",
      " [   17    31]]\n",
      "f1 score: 0.7294117647058824\n",
      "roc_auc_score: 0.9501584133459946\n",
      "\n",
      "\n",
      "C: 20\n",
      "Coefficients:  [[ 0.06689497  0.07787686  0.05223348  0.78235111  0.16787225 -0.137527\n",
      "  -0.05648344 -0.17461381 -0.18417964 -0.89415276 -0.00764746  0.13674343\n",
      "  -0.31591527 -0.49356606 -0.06455515 -0.34659722 -0.06296995  0.08505021\n",
      "   0.00711638 -0.48314557  0.32971511  0.50278445 -0.07849028  0.11023669\n",
      "  -0.08421891  0.14499971 -0.80374064 -0.2747129   0.26222945]]\n",
      "Training accuracy: 0.999211941043827\n",
      "Testing accuracy: 0.9991924440855307\n",
      "Confusion Matrix: [[28427     6]\n",
      " [   17    31]]\n",
      "f1 score: 0.7294117647058824\n",
      "roc_auc_score: 0.9501642750794265\n",
      "\n",
      "\n",
      "C: 10\n",
      "Coefficients:  [[ 0.06671886  0.07751385  0.05208825  0.78149255  0.1674995  -0.13739973\n",
      "  -0.05642125 -0.1747309  -0.18465623 -0.89272054 -0.00743896  0.13595928\n",
      "  -0.31559084 -0.49381651 -0.06473396 -0.34655359 -0.0626405   0.08478301\n",
      "   0.0071979  -0.48228881  0.32952307  0.5025631  -0.07857386  0.1099513\n",
      "  -0.08421921  0.14435355 -0.80219728 -0.2741398   0.26156421]]\n",
      "Training accuracy: 0.999211941043827\n",
      "Testing accuracy: 0.9991924440855307\n",
      "Confusion Matrix: [[28427     6]\n",
      " [   17    31]]\n",
      "f1 score: 0.7294117647058824\n",
      "roc_auc_score: 0.9502221596970656\n",
      "\n",
      "\n",
      "C: 1\n",
      "Coefficients:  [[ 0.06357171  0.07317127  0.0501034   0.76824744  0.16259026 -0.13528507\n",
      "  -0.05488086 -0.17646596 -0.18785619 -0.87111428 -0.00439222  0.12311367\n",
      "  -0.31106575 -0.49879544 -0.06790497 -0.34024053 -0.05836489  0.07722877\n",
      "   0.0105198  -0.46694618  0.32666286  0.49895755 -0.07983627  0.10657227\n",
      "  -0.08331283  0.13151308 -0.77585137 -0.26357014  0.25203378]]\n",
      "Training accuracy: 0.999211941043827\n",
      "Testing accuracy: 0.9992275552122467\n",
      "Confusion Matrix: [[28427     6]\n",
      " [   16    32]]\n",
      "f1 score: 0.744186046511628\n",
      "roc_auc_score: 0.9511402536958229\n",
      "\n",
      "\n",
      "C: 0.1\n",
      "Coefficients:  [[ 0.0374123   0.05376356  0.03348466  0.68493873  0.13817194 -0.11796013\n",
      "  -0.03013457 -0.19004248 -0.18106437 -0.71677208  0.02155633  0.04307239\n",
      "  -0.2780853  -0.52943032 -0.08032998 -0.31459225 -0.04454539  0.04512467\n",
      "   0.01922598 -0.34543347  0.29473539  0.44669559 -0.08652546  0.08089866\n",
      "  -0.07429133  0.07362774 -0.56027535 -0.17934275  0.17921528]]\n",
      "Training accuracy: 0.9992080397618658\n",
      "Testing accuracy: 0.9992275552122467\n",
      "Confusion Matrix: [[28427     6]\n",
      " [   16    32]]\n",
      "f1 score: 0.744186046511628\n",
      "roc_auc_score: 0.9577200494730301\n",
      "\n",
      "\n",
      "C: 0.01\n",
      "Coefficients:  [[ 0.00283871  0.03355687 -0.01752632  0.48246489  0.11863183 -0.06571232\n",
      "   0.00468661 -0.20307328 -0.13696425 -0.38123006  0.1032801  -0.1400804\n",
      "  -0.15989005 -0.54816951 -0.06329649 -0.2285481  -0.06179834  0.00632007\n",
      "   0.01886163 -0.09278197  0.16877736  0.19193134 -0.06491172  0.01647234\n",
      "  -0.03326979  0.02304433 -0.11422286 -0.02929543  0.06273268]]\n",
      "Training accuracy: 0.9991651256602919\n",
      "Testing accuracy: 0.9992977774656788\n",
      "Confusion Matrix: [[28428     5]\n",
      " [   15    33]]\n",
      "f1 score: 0.7674418604651162\n",
      "roc_auc_score: 0.9755609678894243\n",
      "\n",
      "\n",
      "C: 0.001\n",
      "Coefficients:  [[-0.00261303  0.02800498 -0.08785481  0.25656377  0.08696648 -0.04176354\n",
      "  -0.0146632  -0.13346148 -0.09494833 -0.1895508   0.14021023 -0.20295353\n",
      "  -0.04628133 -0.38953829 -0.01031544 -0.11063183 -0.08984672 -0.0012574\n",
      "   0.00687741 -0.00336953  0.05032572  0.02988127 -0.01770472 -0.01281799\n",
      "  -0.01365087  0.0078552  -0.00792041 -0.0010879   0.03660125]]\n",
      "Training accuracy: 0.9990831987391057\n",
      "Testing accuracy: 0.9991573329588147\n",
      "Confusion Matrix: [[28428     5]\n",
      " [   19    29]]\n",
      "f1 score: 0.7073170731707317\n",
      "roc_auc_score: 0.9870968592832272\n",
      "\n",
      "\n"
     ]
    }
   ],
   "source": [
    "C = [30,20,10,1,0.1,0.01, 0.001]\n",
    "\n",
    "for c in C:\n",
    "    clf_l2 = LogisticRegression(penalty = 'l2', C = c, solver = 'lbfgs').fit(X_train, Y_train)\n",
    "    print('C:', c)\n",
    "    print(\"Coefficients: \", clf_l2.coef_)\n",
    "    print(\"Training accuracy:\" , clf_l2.score(X_train, Y_train))\n",
    "    print(\"Testing accuracy:\", clf_l2.score(X_test, Y_test))\n",
    "    yhat = clf_l2.predict(X_test)\n",
    "    print(\"Confusion Matrix:\", confusion_matrix(Y_test, yhat))\n",
    "    print(\"f1 score:\", f1_score(Y_test, yhat))\n",
    "    predictions = clf_l2.predict_proba(X_test)\n",
    "    print(\"roc_auc_score:\" , roc_auc_score(Y_test,predictions[:,1]))\n",
    "    print(\"\\n\")"
   ]
  },
  {
   "cell_type": "markdown",
   "metadata": {},
   "source": [
    "For C = 0.01, the F1 score is maximum. Also the false negatives are less "
   ]
  },
  {
   "cell_type": "markdown",
   "metadata": {},
   "source": [
    "### Random Forests "
   ]
  },
  {
   "cell_type": "code",
   "execution_count": 22,
   "metadata": {},
   "outputs": [],
   "source": [
    "from sklearn.ensemble import RandomForestClassifier"
   ]
  },
  {
   "cell_type": "code",
   "execution_count": 24,
   "metadata": {},
   "outputs": [],
   "source": [
    "clf_rf = RandomForestClassifier(n_estimators = 1000\n",
    "                                , max_depth = 8\n",
    "                                , random_state = 1\n",
    "                                ).fit(X_train, Y_train)"
   ]
  },
  {
   "cell_type": "code",
   "execution_count": 31,
   "metadata": {},
   "outputs": [
    {
     "data": {
      "image/png": "[encoded data removed]",
      "text/plain": [
       "<Figure size 432x288 with 1 Axes>"
      ]
     },
     "metadata": {
      "needs_background": "light"
     },
     "output_type": "display_data"
    }
   ],
   "source": [
    "feat_importances = pd.Series(clf_rf.feature_importances_, index=X_train.columns)\n",
    "feat_importances.nlargest(20).plot(kind='barh')\n",
    "plt.title(\"Feature Importance Chart\")\n",
    "plt.show()"
   ]
  },
  {
   "cell_type": "code",
   "execution_count": 32,
   "metadata": {},
   "outputs": [],
   "source": [
    "# predicting the class on the test data \n",
    "yhat = clf_rf.predict(X_test)"
   ]
  },
  {
   "cell_type": "code",
   "execution_count": 33,
   "metadata": {},
   "outputs": [],
   "source": [
    "# predicting the probabilities\n",
    "predictions = clf_rf.predict_proba(X_test)"
   ]
  },
  {
   "cell_type": "code",
   "execution_count": 34,
   "metadata": {},
   "outputs": [
    {
     "data": {
      "text/plain": [
       "array([[28433,     0],\n",
       "       [   10,    38]])"
      ]
     },
     "execution_count": 34,
     "metadata": {},
     "output_type": "execute_result"
    }
   ],
   "source": [
    "# confusion matrix\n",
    "confusion_matrix(Y_test, yhat)"
   ]
  },
  {
   "cell_type": "code",
   "execution_count": 35,
   "metadata": {},
   "outputs": [
    {
     "data": {
      "text/plain": [
       "0.8837209302325582"
      ]
     },
     "execution_count": 35,
     "metadata": {},
     "output_type": "execute_result"
    }
   ],
   "source": [
    "# f1 score\n",
    "f1_score(Y_test, yhat)"
   ]
  },
  {
   "cell_type": "code",
   "execution_count": 36,
   "metadata": {},
   "outputs": [
    {
     "data": {
      "text/plain": [
       "0.9567935292324646"
      ]
     },
     "execution_count": 36,
     "metadata": {},
     "output_type": "execute_result"
    }
   ],
   "source": [
    "# AUC score \n",
    "roc_auc_score(Y_test,predictions[:,1])"
   ]
  },
  {
   "cell_type": "markdown",
   "metadata": {},
   "source": [
    "### Bagging Classifier"
   ]
  },
  {
   "cell_type": "code",
   "execution_count": 340,
   "metadata": {},
   "outputs": [],
   "source": [
    "from sklearn.ensemble import BaggingClassifier"
   ]
  },
  {
   "cell_type": "code",
   "execution_count": 39,
   "metadata": {},
   "outputs": [],
   "source": [
    "clg_bg = BaggingClassifier(n_estimators = 100, max_samples = 0.8\n",
    "                           , random_state = 20).fit(X_train, Y_train)"
   ]
  },
  {
   "cell_type": "code",
   "execution_count": 41,
   "metadata": {},
   "outputs": [],
   "source": [
    "# predicting the class on the test data \n",
    "yhat = clg_bg.predict(X_test)"
   ]
  },
  {
   "cell_type": "code",
   "execution_count": 42,
   "metadata": {},
   "outputs": [
    {
     "data": {
      "text/plain": [
       "array([[28432,     1],\n",
       "       [    9,    39]])"
      ]
     },
     "execution_count": 42,
     "metadata": {},
     "output_type": "execute_result"
    }
   ],
   "source": [
    "# confusion matrix\n",
    "confusion_matrix(Y_test, yhat)"
   ]
  },
  {
   "cell_type": "code",
   "execution_count": 43,
   "metadata": {},
   "outputs": [
    {
     "data": {
      "text/plain": [
       "0.8863636363636362"
      ]
     },
     "execution_count": 43,
     "metadata": {},
     "output_type": "execute_result"
    }
   ],
   "source": [
    "# f1 score\n",
    "f1_score(Y_test, yhat)"
   ]
  },
  {
   "cell_type": "code",
   "execution_count": 44,
   "metadata": {},
   "outputs": [
    {
     "data": {
      "text/plain": [
       "0.9567935292324646"
      ]
     },
     "execution_count": 44,
     "metadata": {},
     "output_type": "execute_result"
    }
   ],
   "source": [
    "# AUC score \n",
    "roc_auc_score(Y_test,predictions[:,1])"
   ]
  },
  {
   "cell_type": "markdown",
   "metadata": {},
   "source": [
    "### XGBOOST "
   ]
  },
  {
   "cell_type": "code",
   "execution_count": 28,
   "metadata": {},
   "outputs": [],
   "source": [
    "import xgboost as xgb\n",
    "from xgboost import XGBClassifier\n",
    "from sklearn.model_selection import train_test_split"
   ]
  },
  {
   "cell_type": "code",
   "execution_count": 29,
   "metadata": {},
   "outputs": [],
   "source": [
    "X_train, X_test, Y_train, Y_test = train_test_split(X, Y, test_size = 0.2, random_state = 42)"
   ]
  },
  {
   "cell_type": "code",
   "execution_count": 65,
   "metadata": {},
   "outputs": [],
   "source": [
    "clf_xgb = XGBClassifier(max_depth = 7 , learning_rate = 0.1\n",
    "                        , n_estimators = 500, subsample = 0.6, colsample_bytree = 0.6,\n",
    "                       colsample_bylevel = 0.8).fit(X_train, Y_train)"
   ]
  },
  {
   "cell_type": "code",
   "execution_count": 66,
   "metadata": {},
   "outputs": [
    {
     "data": {
      "image/png": "[encoded data removed]",
      "text/plain": [
       "<Figure size 432x288 with 1 Axes>"
      ]
     },
     "metadata": {
      "needs_background": "light"
     },
     "output_type": "display_data"
    }
   ],
   "source": [
    "feat_importances = pd.Series(clf_xgb.feature_importances_, index=X_train.columns)\n",
    "feat_importances.nlargest(20).plot(kind='barh')\n",
    "plt.title(\"Feature Importance Chart\")\n",
    "plt.show()"
   ]
  },
  {
   "cell_type": "code",
   "execution_count": 67,
   "metadata": {},
   "outputs": [],
   "source": [
    "# predicting the class on the test data \n",
    "yhat = clf_xgb.predict(X_test)"
   ]
  },
  {
   "cell_type": "code",
   "execution_count": 68,
   "metadata": {},
   "outputs": [],
   "source": [
    "# predicting the probabilities\n",
    "predictions = clf_xgb.predict_proba(X_test)"
   ]
  },
  {
   "cell_type": "code",
   "execution_count": 69,
   "metadata": {},
   "outputs": [
    {
     "data": {
      "text/plain": [
       "array([[28436,     2],\n",
       "       [    9,    34]])"
      ]
     },
     "execution_count": 69,
     "metadata": {},
     "output_type": "execute_result"
    }
   ],
   "source": [
    "# confusion matrix\n",
    "confusion_matrix(Y_test, yhat)"
   ]
  },
  {
   "cell_type": "code",
   "execution_count": 70,
   "metadata": {},
   "outputs": [
    {
     "data": {
      "text/plain": [
       "0.8607594936708861"
      ]
     },
     "execution_count": 70,
     "metadata": {},
     "output_type": "execute_result"
    }
   ],
   "source": [
    "# f1 score\n",
    "f1_score(Y_test, yhat)"
   ]
  },
  {
   "cell_type": "code",
   "execution_count": 71,
   "metadata": {},
   "outputs": [
    {
     "data": {
      "text/plain": [
       "0.9723977252840532"
      ]
     },
     "execution_count": 71,
     "metadata": {},
     "output_type": "execute_result"
    }
   ],
   "source": [
    "# AUC score \n",
    "roc_auc_score(Y_test,predictions[:,1])"
   ]
  },
  {
   "cell_type": "markdown",
   "metadata": {},
   "source": [
    "### Hyperparameter tuning using Bayesian Optimization "
   ]
  },
  {
   "cell_type": "code",
   "execution_count": 2,
   "metadata": {},
   "outputs": [],
   "source": [
    "#pip install bayesian-optimization"
   ]
  },
  {
   "cell_type": "code",
   "execution_count": 1,
   "metadata": {},
   "outputs": [],
   "source": [
    "from bayes_opt import BayesianOptimization"
   ]
  },
  {
   "cell_type": "code",
   "execution_count": null,
   "metadata": {},
   "outputs": [],
   "source": [
    "score = make_scorer(f1_score(Y_train, yhat), greater_is_better=False)"
   ]
  },
  {
   "cell_type": "code",
   "execution_count": 62,
   "metadata": {},
   "outputs": [],
   "source": [
    "def xgboost_hyper_param(learning_rate,\n",
    "                        n_estimators,\n",
    "                        max_depth,\n",
    "                        subsample,\n",
    "                        colsample_bytree,\n",
    "                        colsample_bylevel,\n",
    "                        colsample,\n",
    "                        gamma):\n",
    "    max_depth = int(max_depth)\n",
    "    n_estimators = int(n_estimators)\n",
    "    clf = LGBMClassifier(\n",
    "        max_depth=max_depth,\n",
    "        learning_rate=learning_rate,\n",
    "        n_estimators=n_estimators,\n",
    "        subsample = subsample,\n",
    "        colsample_bytree = colsample_bytree,\n",
    "        colsample_bylevel = colsample_bylevel,\n",
    "        colsample = colsample,\n",
    "        gamma=gamma)\n",
    "    return np.mean(cross_val_score(clf, X_train, Y_train, cv=3, scoring= 'f1_score'))"
   ]
  },
  {
   "cell_type": "code",
   "execution_count": 63,
   "metadata": {},
   "outputs": [],
   "source": [
    "pbounds = {\n",
    "    'learning_rate': (0.01, 0.5),\n",
    "    'n_estimators': (100, 1000),\n",
    "    'max_depth': (3,10),\n",
    "    'subsample': (0, 1.0),  # Change for big datasets\n",
    "    'colsample': (0, 1.0),  # Change for datasets with lots of features\n",
    "    'colsample_bytree' : (0.1, 1.0),\n",
    "    'colsample_bylevel' : (0.1,1.0),\n",
    "    'gamma': (0, 5)}"
   ]
  },
  {
   "cell_type": "code",
   "execution_count": 64,
   "metadata": {},
   "outputs": [],
   "source": [
    "optimizer = BayesianOptimization(\n",
    "    f=xgboost_hyper_param,\n",
    "    pbounds=pbounds,\n",
    "    random_state=1,\n",
    ")"
   ]
  },
  {
   "cell_type": "code",
   "execution_count": 65,
   "metadata": {},
   "outputs": [
    {
     "name": "stdout",
     "output_type": "stream",
     "text": [
      "|   iter    |  target   | colsample | colsam... | colsam... |   gamma   | learni... | max_depth | n_esti... | subsample |\n",
      "-------------------------------------------------------------------------------------------------------------------------\n"
     ]
    },
    {
     "ename": "ValueError",
     "evalue": "'f1_score' is not a valid scoring value. Use sorted(sklearn.metrics.SCORERS.keys()) to get valid options.",
     "output_type": "error",
     "traceback": [
      "\u001b[0;31m---------------------------------------------------------------------------\u001b[0m",
      "\u001b[0;31mKeyError\u001b[0m                                  Traceback (most recent call last)",
      "\u001b[0;32m~/anaconda3/lib/python3.7/site-packages/bayes_opt/target_space.py\u001b[0m in \u001b[0;36mprobe\u001b[0;34m(self, params)\u001b[0m\n\u001b[1;32m    190\u001b[0m         \u001b[0;32mtry\u001b[0m\u001b[0;34m:\u001b[0m\u001b[0;34m\u001b[0m\u001b[0;34m\u001b[0m\u001b[0m\n\u001b[0;32m--> 191\u001b[0;31m             \u001b[0mtarget\u001b[0m \u001b[0;34m=\u001b[0m \u001b[0mself\u001b[0m\u001b[0;34m.\u001b[0m\u001b[0m_cache\u001b[0m\u001b[0;34m[\u001b[0m\u001b[0m_hashable\u001b[0m\u001b[0;34m(\u001b[0m\u001b[0mx\u001b[0m\u001b[0;34m)\u001b[0m\u001b[0;34m]\u001b[0m\u001b[0;34m\u001b[0m\u001b[0;34m\u001b[0m\u001b[0m\n\u001b[0m\u001b[1;32m    192\u001b[0m         \u001b[0;32mexcept\u001b[0m \u001b[0mKeyError\u001b[0m\u001b[0;34m:\u001b[0m\u001b[0;34m\u001b[0m\u001b[0;34m\u001b[0m\u001b[0m\n",
      "\u001b[0;31mKeyError\u001b[0m: (0.417022004702574, 0.7203244934421581, 0.00011437481734488664, 1.5116628631591988, 0.08191038650038539, 3.646370163381585, 267.6341902399038, 0.34556072704304774)",
      "\nDuring handling of the above exception, another exception occurred:\n",
      "\u001b[0;31mKeyError\u001b[0m                                  Traceback (most recent call last)",
      "\u001b[0;32m~/anaconda3/lib/python3.7/site-packages/sklearn/metrics/scorer.py\u001b[0m in \u001b[0;36mget_scorer\u001b[0;34m(scoring)\u001b[0m\n\u001b[1;32m    227\u001b[0m         \u001b[0;32mtry\u001b[0m\u001b[0;34m:\u001b[0m\u001b[0;34m\u001b[0m\u001b[0;34m\u001b[0m\u001b[0m\n\u001b[0;32m--> 228\u001b[0;31m             \u001b[0mscorer\u001b[0m \u001b[0;34m=\u001b[0m \u001b[0mSCORERS\u001b[0m\u001b[0;34m[\u001b[0m\u001b[0mscoring\u001b[0m\u001b[0;34m]\u001b[0m\u001b[0;34m\u001b[0m\u001b[0;34m\u001b[0m\u001b[0m\n\u001b[0m\u001b[1;32m    229\u001b[0m         \u001b[0;32mexcept\u001b[0m \u001b[0mKeyError\u001b[0m\u001b[0;34m:\u001b[0m\u001b[0;34m\u001b[0m\u001b[0;34m\u001b[0m\u001b[0m\n",
      "\u001b[0;31mKeyError\u001b[0m: 'f1_score'",
      "\nDuring handling of the above exception, another exception occurred:\n",
      "\u001b[0;31mValueError\u001b[0m                                Traceback (most recent call last)",
      "\u001b[0;32m<ipython-input-65-40a6674083eb>\u001b[0m in \u001b[0;36m<module>\u001b[0;34m\u001b[0m\n\u001b[0;32m----> 1\u001b[0;31m \u001b[0moptimizer\u001b[0m\u001b[0;34m.\u001b[0m\u001b[0mmaximize\u001b[0m\u001b[0;34m(\u001b[0m\u001b[0mn_iter\u001b[0m\u001b[0;34m=\u001b[0m\u001b[0;36m5\u001b[0m\u001b[0;34m,\u001b[0m \u001b[0minit_points\u001b[0m\u001b[0;34m=\u001b[0m\u001b[0;36m8\u001b[0m\u001b[0;34m,\u001b[0m \u001b[0macq\u001b[0m\u001b[0;34m=\u001b[0m\u001b[0;34m'ei'\u001b[0m\u001b[0;34m)\u001b[0m\u001b[0;34m\u001b[0m\u001b[0;34m\u001b[0m\u001b[0m\n\u001b[0m",
      "\u001b[0;32m~/anaconda3/lib/python3.7/site-packages/bayes_opt/bayesian_optimization.py\u001b[0m in \u001b[0;36mmaximize\u001b[0;34m(self, init_points, n_iter, acq, kappa, kappa_decay, kappa_decay_delay, xi, **gp_params)\u001b[0m\n\u001b[1;32m    183\u001b[0m                 \u001b[0miteration\u001b[0m \u001b[0;34m+=\u001b[0m \u001b[0;36m1\u001b[0m\u001b[0;34m\u001b[0m\u001b[0;34m\u001b[0m\u001b[0m\n\u001b[1;32m    184\u001b[0m \u001b[0;34m\u001b[0m\u001b[0m\n\u001b[0;32m--> 185\u001b[0;31m             \u001b[0mself\u001b[0m\u001b[0;34m.\u001b[0m\u001b[0mprobe\u001b[0m\u001b[0;34m(\u001b[0m\u001b[0mx_probe\u001b[0m\u001b[0;34m,\u001b[0m \u001b[0mlazy\u001b[0m\u001b[0;34m=\u001b[0m\u001b[0;32mFalse\u001b[0m\u001b[0;34m)\u001b[0m\u001b[0;34m\u001b[0m\u001b[0;34m\u001b[0m\u001b[0m\n\u001b[0m\u001b[1;32m    186\u001b[0m \u001b[0;34m\u001b[0m\u001b[0m\n\u001b[1;32m    187\u001b[0m             \u001b[0;32mif\u001b[0m \u001b[0mself\u001b[0m\u001b[0;34m.\u001b[0m\u001b[0m_bounds_transformer\u001b[0m\u001b[0;34m:\u001b[0m\u001b[0;34m\u001b[0m\u001b[0;34m\u001b[0m\u001b[0m\n",
      "\u001b[0;32m~/anaconda3/lib/python3.7/site-packages/bayes_opt/bayesian_optimization.py\u001b[0m in \u001b[0;36mprobe\u001b[0;34m(self, params, lazy)\u001b[0m\n\u001b[1;32m    114\u001b[0m             \u001b[0mself\u001b[0m\u001b[0;34m.\u001b[0m\u001b[0m_queue\u001b[0m\u001b[0;34m.\u001b[0m\u001b[0madd\u001b[0m\u001b[0;34m(\u001b[0m\u001b[0mparams\u001b[0m\u001b[0;34m)\u001b[0m\u001b[0;34m\u001b[0m\u001b[0;34m\u001b[0m\u001b[0m\n\u001b[1;32m    115\u001b[0m         \u001b[0;32melse\u001b[0m\u001b[0;34m:\u001b[0m\u001b[0;34m\u001b[0m\u001b[0;34m\u001b[0m\u001b[0m\n\u001b[0;32m--> 116\u001b[0;31m             \u001b[0mself\u001b[0m\u001b[0;34m.\u001b[0m\u001b[0m_space\u001b[0m\u001b[0;34m.\u001b[0m\u001b[0mprobe\u001b[0m\u001b[0;34m(\u001b[0m\u001b[0mparams\u001b[0m\u001b[0;34m)\u001b[0m\u001b[0;34m\u001b[0m\u001b[0;34m\u001b[0m\u001b[0m\n\u001b[0m\u001b[1;32m    117\u001b[0m             \u001b[0mself\u001b[0m\u001b[0;34m.\u001b[0m\u001b[0mdispatch\u001b[0m\u001b[0;34m(\u001b[0m\u001b[0mEvents\u001b[0m\u001b[0;34m.\u001b[0m\u001b[0mOPTIMIZATION_STEP\u001b[0m\u001b[0;34m)\u001b[0m\u001b[0;34m\u001b[0m\u001b[0;34m\u001b[0m\u001b[0m\n\u001b[1;32m    118\u001b[0m \u001b[0;34m\u001b[0m\u001b[0m\n",
      "\u001b[0;32m~/anaconda3/lib/python3.7/site-packages/bayes_opt/target_space.py\u001b[0m in \u001b[0;36mprobe\u001b[0;34m(self, params)\u001b[0m\n\u001b[1;32m    192\u001b[0m         \u001b[0;32mexcept\u001b[0m \u001b[0mKeyError\u001b[0m\u001b[0;34m:\u001b[0m\u001b[0;34m\u001b[0m\u001b[0;34m\u001b[0m\u001b[0m\n\u001b[1;32m    193\u001b[0m             \u001b[0mparams\u001b[0m \u001b[0;34m=\u001b[0m \u001b[0mdict\u001b[0m\u001b[0;34m(\u001b[0m\u001b[0mzip\u001b[0m\u001b[0;34m(\u001b[0m\u001b[0mself\u001b[0m\u001b[0;34m.\u001b[0m\u001b[0m_keys\u001b[0m\u001b[0;34m,\u001b[0m \u001b[0mx\u001b[0m\u001b[0;34m)\u001b[0m\u001b[0;34m)\u001b[0m\u001b[0;34m\u001b[0m\u001b[0;34m\u001b[0m\u001b[0m\n\u001b[0;32m--> 194\u001b[0;31m             \u001b[0mtarget\u001b[0m \u001b[0;34m=\u001b[0m \u001b[0mself\u001b[0m\u001b[0;34m.\u001b[0m\u001b[0mtarget_func\u001b[0m\u001b[0;34m(\u001b[0m\u001b[0;34m**\u001b[0m\u001b[0mparams\u001b[0m\u001b[0;34m)\u001b[0m\u001b[0;34m\u001b[0m\u001b[0;34m\u001b[0m\u001b[0m\n\u001b[0m\u001b[1;32m    195\u001b[0m             \u001b[0mself\u001b[0m\u001b[0;34m.\u001b[0m\u001b[0mregister\u001b[0m\u001b[0;34m(\u001b[0m\u001b[0mx\u001b[0m\u001b[0;34m,\u001b[0m \u001b[0mtarget\u001b[0m\u001b[0;34m)\u001b[0m\u001b[0;34m\u001b[0m\u001b[0;34m\u001b[0m\u001b[0m\n\u001b[1;32m    196\u001b[0m         \u001b[0;32mreturn\u001b[0m \u001b[0mtarget\u001b[0m\u001b[0;34m\u001b[0m\u001b[0;34m\u001b[0m\u001b[0m\n",
      "\u001b[0;32m<ipython-input-62-8ce7825618d1>\u001b[0m in \u001b[0;36mxgboost_hyper_param\u001b[0;34m(learning_rate, n_estimators, max_depth, subsample, colsample_bytree, colsample_bylevel, colsample, gamma)\u001b[0m\n\u001b[1;32m     18\u001b[0m         \u001b[0mcolsample\u001b[0m \u001b[0;34m=\u001b[0m \u001b[0mcolsample\u001b[0m\u001b[0;34m,\u001b[0m\u001b[0;34m\u001b[0m\u001b[0;34m\u001b[0m\u001b[0m\n\u001b[1;32m     19\u001b[0m         gamma=gamma)\n\u001b[0;32m---> 20\u001b[0;31m     \u001b[0;32mreturn\u001b[0m \u001b[0mnp\u001b[0m\u001b[0;34m.\u001b[0m\u001b[0mmean\u001b[0m\u001b[0;34m(\u001b[0m\u001b[0mcross_val_score\u001b[0m\u001b[0;34m(\u001b[0m\u001b[0mclf\u001b[0m\u001b[0;34m,\u001b[0m \u001b[0mX_train\u001b[0m\u001b[0;34m,\u001b[0m \u001b[0mY_train\u001b[0m\u001b[0;34m,\u001b[0m \u001b[0mcv\u001b[0m\u001b[0;34m=\u001b[0m\u001b[0;36m3\u001b[0m\u001b[0;34m,\u001b[0m \u001b[0mscoring\u001b[0m\u001b[0;34m=\u001b[0m \u001b[0;34m'f1_score'\u001b[0m\u001b[0;34m)\u001b[0m\u001b[0;34m)\u001b[0m\u001b[0;34m\u001b[0m\u001b[0;34m\u001b[0m\u001b[0m\n\u001b[0m",
      "\u001b[0;32m~/anaconda3/lib/python3.7/site-packages/sklearn/model_selection/_validation.py\u001b[0m in \u001b[0;36mcross_val_score\u001b[0;34m(estimator, X, y, groups, scoring, cv, n_jobs, verbose, fit_params, pre_dispatch, error_score)\u001b[0m\n\u001b[1;32m    380\u001b[0m     \"\"\"\n\u001b[1;32m    381\u001b[0m     \u001b[0;31m# To ensure multimetric format is not supported\u001b[0m\u001b[0;34m\u001b[0m\u001b[0;34m\u001b[0m\u001b[0;34m\u001b[0m\u001b[0m\n\u001b[0;32m--> 382\u001b[0;31m     \u001b[0mscorer\u001b[0m \u001b[0;34m=\u001b[0m \u001b[0mcheck_scoring\u001b[0m\u001b[0;34m(\u001b[0m\u001b[0mestimator\u001b[0m\u001b[0;34m,\u001b[0m \u001b[0mscoring\u001b[0m\u001b[0;34m=\u001b[0m\u001b[0mscoring\u001b[0m\u001b[0;34m)\u001b[0m\u001b[0;34m\u001b[0m\u001b[0;34m\u001b[0m\u001b[0m\n\u001b[0m\u001b[1;32m    383\u001b[0m \u001b[0;34m\u001b[0m\u001b[0m\n\u001b[1;32m    384\u001b[0m     cv_results = cross_validate(estimator=estimator, X=X, y=y, groups=groups,\n",
      "\u001b[0;32m~/anaconda3/lib/python3.7/site-packages/sklearn/metrics/scorer.py\u001b[0m in \u001b[0;36mcheck_scoring\u001b[0;34m(estimator, scoring, allow_none)\u001b[0m\n\u001b[1;32m    270\u001b[0m                         \"'fit' method, %r was passed\" % estimator)\n\u001b[1;32m    271\u001b[0m     \u001b[0;32mif\u001b[0m \u001b[0misinstance\u001b[0m\u001b[0;34m(\u001b[0m\u001b[0mscoring\u001b[0m\u001b[0;34m,\u001b[0m \u001b[0mstr\u001b[0m\u001b[0;34m)\u001b[0m\u001b[0;34m:\u001b[0m\u001b[0;34m\u001b[0m\u001b[0;34m\u001b[0m\u001b[0m\n\u001b[0;32m--> 272\u001b[0;31m         \u001b[0;32mreturn\u001b[0m \u001b[0mget_scorer\u001b[0m\u001b[0;34m(\u001b[0m\u001b[0mscoring\u001b[0m\u001b[0;34m)\u001b[0m\u001b[0;34m\u001b[0m\u001b[0;34m\u001b[0m\u001b[0m\n\u001b[0m\u001b[1;32m    273\u001b[0m     \u001b[0;32melif\u001b[0m \u001b[0mcallable\u001b[0m\u001b[0;34m(\u001b[0m\u001b[0mscoring\u001b[0m\u001b[0;34m)\u001b[0m\u001b[0;34m:\u001b[0m\u001b[0;34m\u001b[0m\u001b[0;34m\u001b[0m\u001b[0m\n\u001b[1;32m    274\u001b[0m         \u001b[0;31m# Heuristic to ensure user has not passed a metric\u001b[0m\u001b[0;34m\u001b[0m\u001b[0;34m\u001b[0m\u001b[0;34m\u001b[0m\u001b[0m\n",
      "\u001b[0;32m~/anaconda3/lib/python3.7/site-packages/sklearn/metrics/scorer.py\u001b[0m in \u001b[0;36mget_scorer\u001b[0;34m(scoring)\u001b[0m\n\u001b[1;32m    230\u001b[0m             raise ValueError('%r is not a valid scoring value. '\n\u001b[1;32m    231\u001b[0m                              \u001b[0;34m'Use sorted(sklearn.metrics.SCORERS.keys()) '\u001b[0m\u001b[0;34m\u001b[0m\u001b[0;34m\u001b[0m\u001b[0m\n\u001b[0;32m--> 232\u001b[0;31m                              'to get valid options.' % (scoring))\n\u001b[0m\u001b[1;32m    233\u001b[0m     \u001b[0;32melse\u001b[0m\u001b[0;34m:\u001b[0m\u001b[0;34m\u001b[0m\u001b[0;34m\u001b[0m\u001b[0m\n\u001b[1;32m    234\u001b[0m         \u001b[0mscorer\u001b[0m \u001b[0;34m=\u001b[0m \u001b[0mscoring\u001b[0m\u001b[0;34m\u001b[0m\u001b[0;34m\u001b[0m\u001b[0m\n",
      "\u001b[0;31mValueError\u001b[0m: 'f1_score' is not a valid scoring value. Use sorted(sklearn.metrics.SCORERS.keys()) to get valid options."
     ]
    }
   ],
   "source": [
    "optimizer.maximize(n_iter=5, init_points=8, acq='ei')"
   ]
  },
  {
   "cell_type": "code",
   "execution_count": 50,
   "metadata": {},
   "outputs": [
    {
     "name": "stdout",
     "output_type": "stream",
     "text": [
      "{'colsample': 0.9888610889064947, 'colsample_bylevel': 0.7481656543798394, 'colsample_bytree': 0.2804439920644052, 'gamma': 3.946396642257443, 'learning_rate': 0.060580743223044596, 'max_depth': 6.135254683231336, 'n_estimators': 917.735952783786, 'subsample': 0.2936141483736795}\n"
     ]
    }
   ],
   "source": [
    "params = optimizer.max['params']\n",
    "print(params)"
   ]
  },
  {
   "cell_type": "code",
   "execution_count": 51,
   "metadata": {},
   "outputs": [],
   "source": [
    "params['max_depth']= int(params['max_depth'])\n",
    "params['n_estimators']= int(params['n_estimators'])"
   ]
  },
  {
   "cell_type": "code",
   "execution_count": 53,
   "metadata": {},
   "outputs": [],
   "source": [
    "classifier2 = LGBMClassifier(**params).fit(X_train, Y_train)"
   ]
  },
  {
   "cell_type": "code",
   "execution_count": 55,
   "metadata": {},
   "outputs": [
    {
     "data": {
      "text/plain": [
       "array([[56819,    45],\n",
       "       [   30,    68]])"
      ]
     },
     "execution_count": 55,
     "metadata": {},
     "output_type": "execute_result"
    }
   ],
   "source": [
    "yhat = classifier2.predict(X_test)\n",
    "predictions = classifier2.predict_proba(X_test)\n",
    "confusion_matrix(Y_test, yhat)"
   ]
  },
  {
   "cell_type": "code",
   "execution_count": 56,
   "metadata": {},
   "outputs": [
    {
     "data": {
      "text/plain": [
       "0.6445497630331755"
      ]
     },
     "execution_count": 56,
     "metadata": {},
     "output_type": "execute_result"
    }
   ],
   "source": [
    "# f1 score\n",
    "f1_score(Y_test, yhat)"
   ]
  },
  {
   "cell_type": "code",
   "execution_count": 57,
   "metadata": {},
   "outputs": [
    {
     "data": {
      "text/plain": [
       "0.9346166435060237"
      ]
     },
     "execution_count": 57,
     "metadata": {},
     "output_type": "execute_result"
    }
   ],
   "source": [
    "# AUC score \n",
    "roc_auc_score(Y_test,predictions[:,1])"
   ]
  },
  {
   "cell_type": "markdown",
   "metadata": {},
   "source": [
    "### LightGBM "
   ]
  },
  {
   "cell_type": "code",
   "execution_count": 44,
   "metadata": {},
   "outputs": [],
   "source": [
    "import lightgbm as lgb\n",
    "from lightgbm import LGBMClassifier"
   ]
  },
  {
   "cell_type": "code",
   "execution_count": 128,
   "metadata": {},
   "outputs": [],
   "source": [
    "clf_lgbm = LGBMClassifier(max_depth = 7 , learning_rate = 0.01\n",
    "                        , n_estimators = 500, subsample = 0.6, colsample_bytree = 0.6,\n",
    "                       colsample_bylevel = 0.8).fit(X_train, Y_train)"
   ]
  },
  {
   "cell_type": "code",
   "execution_count": 129,
   "metadata": {},
   "outputs": [],
   "source": [
    "# predicting the class on the test data \n",
    "yhat = clf_lgbm.predict(X_test)"
   ]
  },
  {
   "cell_type": "code",
   "execution_count": 130,
   "metadata": {},
   "outputs": [],
   "source": [
    "# predicting the probabilities\n",
    "predictions = clf_lgbm.predict_proba(X_test)"
   ]
  },
  {
   "cell_type": "code",
   "execution_count": 131,
   "metadata": {},
   "outputs": [
    {
     "data": {
      "text/plain": [
       "array([[28437,     1],\n",
       "       [    9,    34]])"
      ]
     },
     "execution_count": 131,
     "metadata": {},
     "output_type": "execute_result"
    }
   ],
   "source": [
    "# confusion matrix\n",
    "confusion_matrix(Y_test, yhat)"
   ]
  },
  {
   "cell_type": "code",
   "execution_count": 132,
   "metadata": {},
   "outputs": [
    {
     "data": {
      "text/plain": [
       "0.8717948717948717"
      ]
     },
     "execution_count": 132,
     "metadata": {},
     "output_type": "execute_result"
    }
   ],
   "source": [
    "# f1 score\n",
    "f1_score(Y_test, yhat)"
   ]
  },
  {
   "cell_type": "code",
   "execution_count": 133,
   "metadata": {},
   "outputs": [
    {
     "data": {
      "text/plain": [
       "0.9693408917318295"
      ]
     },
     "execution_count": 133,
     "metadata": {},
     "output_type": "execute_result"
    }
   ],
   "source": [
    "# AUC score \n",
    "roc_auc_score(Y_test,predictions[:,1])"
   ]
  },
  {
   "cell_type": "markdown",
   "metadata": {},
   "source": [
    "### Naive Bayes Classifier "
   ]
  },
  {
   "cell_type": "code",
   "execution_count": 315,
   "metadata": {},
   "outputs": [],
   "source": [
    "from sklearn.naive_bayes import GaussianNB\n",
    "from sklearn.metrics import accuracy_score"
   ]
  },
  {
   "cell_type": "code",
   "execution_count": 135,
   "metadata": {},
   "outputs": [],
   "source": [
    "clf_NB = GaussianNB().fit(X_train, Y_train)"
   ]
  },
  {
   "cell_type": "code",
   "execution_count": 136,
   "metadata": {},
   "outputs": [],
   "source": [
    "# predicting the class on the test data \n",
    "yhat = clf_NB.predict(X_test)"
   ]
  },
  {
   "cell_type": "code",
   "execution_count": 140,
   "metadata": {},
   "outputs": [],
   "source": [
    "# predicting the probabilities\n",
    "predictions = clf_NB.predict_proba(X_test)"
   ]
  },
  {
   "cell_type": "code",
   "execution_count": 137,
   "metadata": {},
   "outputs": [
    {
     "data": {
      "text/plain": [
       "array([[27801,   637],\n",
       "       [    7,    36]])"
      ]
     },
     "execution_count": 137,
     "metadata": {},
     "output_type": "execute_result"
    }
   ],
   "source": [
    "# confusion matrix\n",
    "confusion_matrix(Y_test, yhat)"
   ]
  },
  {
   "cell_type": "code",
   "execution_count": 141,
   "metadata": {},
   "outputs": [
    {
     "data": {
      "text/plain": [
       "0.9644129947319096"
      ]
     },
     "execution_count": 141,
     "metadata": {},
     "output_type": "execute_result"
    }
   ],
   "source": [
    "# AUC score \n",
    "roc_auc_score(Y_test,predictions[:,1])"
   ]
  },
  {
   "cell_type": "code",
   "execution_count": 138,
   "metadata": {},
   "outputs": [
    {
     "data": {
      "text/plain": [
       "0.10055865921787709"
      ]
     },
     "execution_count": 138,
     "metadata": {},
     "output_type": "execute_result"
    }
   ],
   "source": [
    "# f1 score\n",
    "f1_score(Y_test, yhat)"
   ]
  },
  {
   "cell_type": "markdown",
   "metadata": {},
   "source": [
    "### Support Vector Machines "
   ]
  },
  {
   "cell_type": "code",
   "execution_count": 204,
   "metadata": {},
   "outputs": [],
   "source": [
    "from sklearn.linear_model import SGDClassifier"
   ]
  },
  {
   "cell_type": "code",
   "execution_count": 205,
   "metadata": {},
   "outputs": [],
   "source": [
    "clf_svm = SGDClassifier(random_state = 0).fit(X_train, Y_train)"
   ]
  },
  {
   "cell_type": "code",
   "execution_count": 206,
   "metadata": {},
   "outputs": [],
   "source": [
    "# predicting the class on the test data \n",
    "yhat = clf_svm.predict(X_test)"
   ]
  },
  {
   "cell_type": "code",
   "execution_count": 207,
   "metadata": {},
   "outputs": [
    {
     "data": {
      "text/plain": [
       "array([[28428,     5],\n",
       "       [   24,    24]])"
      ]
     },
     "execution_count": 207,
     "metadata": {},
     "output_type": "execute_result"
    }
   ],
   "source": [
    "# confusion matrix\n",
    "confusion_matrix(Y_test, yhat)"
   ]
  },
  {
   "cell_type": "code",
   "execution_count": 211,
   "metadata": {},
   "outputs": [
    {
     "data": {
      "text/plain": [
       "0.6233766233766235"
      ]
     },
     "execution_count": 211,
     "metadata": {},
     "output_type": "execute_result"
    }
   ],
   "source": [
    "# f1 score\n",
    "f1_score(Y_test, yhat)"
   ]
  },
  {
   "cell_type": "markdown",
   "metadata": {},
   "source": [
    "### Undersampling"
   ]
  },
  {
   "cell_type": "code",
   "execution_count": 308,
   "metadata": {},
   "outputs": [],
   "source": [
    "X_train, X_test, Y_train, Y_test = train_test_split(X, Y, test_size = 0.1, random_state = 42)"
   ]
  },
  {
   "cell_type": "code",
   "execution_count": 318,
   "metadata": {},
   "outputs": [],
   "source": [
    "import imblearn"
   ]
  },
  {
   "cell_type": "markdown",
   "metadata": {},
   "source": [
    "Here we incorporate the method of near miss undersampling. There are three types of Nearmiss undersampling\n",
    "  -  Nearmiss -1: Majority class examples with minimum average distance to three closest minority class\n",
    "  -  Nearmiss -2: Majority class examples with minimum average distance to three farthest minority class\n",
    "  -  Nearmiss -3: Majority class examples with minimum distance to each minority class example\n"
   ]
  },
  {
   "cell_type": "code",
   "execution_count": 310,
   "metadata": {},
   "outputs": [],
   "source": [
    "from imblearn.under_sampling import NearMiss"
   ]
  },
  {
   "cell_type": "code",
   "execution_count": 311,
   "metadata": {},
   "outputs": [],
   "source": [
    "undersample = NearMiss(version=3, n_neighbors_ver3=4, random_state = 1, sampling_strategy = 'not minority')"
   ]
  },
  {
   "cell_type": "code",
   "execution_count": 312,
   "metadata": {},
   "outputs": [
    {
     "data": {
      "text/plain": [
       "0    255880\n",
       "1       446\n",
       "Name: Class, dtype: int64"
      ]
     },
     "execution_count": 312,
     "metadata": {},
     "output_type": "execute_result"
    }
   ],
   "source": [
    "# Distribution of predicted class before undersampling\n",
    "Y_train.value_counts()"
   ]
  },
  {
   "cell_type": "code",
   "execution_count": 313,
   "metadata": {},
   "outputs": [],
   "source": [
    "X_train_Usample, Y_train_Usample = undersample.fit_resample(X_train, Y_train)"
   ]
  },
  {
   "cell_type": "code",
   "execution_count": 314,
   "metadata": {},
   "outputs": [
    {
     "data": {
      "text/plain": [
       "Counter({0: 446, 1: 446})"
      ]
     },
     "execution_count": 314,
     "metadata": {},
     "output_type": "execute_result"
    }
   ],
   "source": [
    "# Distribution of target varaible after undersampling\n",
    "from collections import Counter\n",
    "Counter(Y_train_Usample)"
   ]
  },
  {
   "cell_type": "markdown",
   "metadata": {},
   "source": [
    "Logistic Regression"
   ]
  },
  {
   "cell_type": "code",
   "execution_count": 254,
   "metadata": {},
   "outputs": [],
   "source": [
    "clf_lg_us = LogisticRegressionCV(random_state=0, solver = 'lbfgs'\n",
    "                              , max_iter = 100000, cv = 5).fit(X_train_Usample, Y_train_Usample)"
   ]
  },
  {
   "cell_type": "code",
   "execution_count": 255,
   "metadata": {},
   "outputs": [],
   "source": [
    "# predicting the class on the test data \n",
    "yhat = clf_lg_us.predict(X_test)"
   ]
  },
  {
   "cell_type": "code",
   "execution_count": 256,
   "metadata": {},
   "outputs": [],
   "source": [
    "# predicting the probabilities\n",
    "predictions = clf_lg_us.predict_proba(X_test)"
   ]
  },
  {
   "cell_type": "code",
   "execution_count": 257,
   "metadata": {},
   "outputs": [
    {
     "data": {
      "text/plain": [
       "array([[28428,     7],\n",
       "       [   10,    36]])"
      ]
     },
     "execution_count": 257,
     "metadata": {},
     "output_type": "execute_result"
    }
   ],
   "source": [
    "# confusion matrix\n",
    "confusion_matrix(Y_test, yhat)"
   ]
  },
  {
   "cell_type": "code",
   "execution_count": 258,
   "metadata": {},
   "outputs": [
    {
     "data": {
      "text/plain": [
       "0.9722234539491288"
      ]
     },
     "execution_count": 258,
     "metadata": {},
     "output_type": "execute_result"
    }
   ],
   "source": [
    "# AUC score \n",
    "roc_auc_score(Y_test,predictions[:,1])"
   ]
  },
  {
   "cell_type": "code",
   "execution_count": 259,
   "metadata": {},
   "outputs": [
    {
     "data": {
      "text/plain": [
       "0.8089887640449438"
      ]
     },
     "execution_count": 259,
     "metadata": {},
     "output_type": "execute_result"
    }
   ],
   "source": [
    "# f1 score\n",
    "f1_score(Y_test, yhat)"
   ]
  },
  {
   "cell_type": "markdown",
   "metadata": {},
   "source": [
    "### Logistic Regression with L2 Regularization"
   ]
  },
  {
   "cell_type": "code",
   "execution_count": 277,
   "metadata": {
    "scrolled": false
   },
   "outputs": [
    {
     "name": "stdout",
     "output_type": "stream",
     "text": [
      "C: 30\n",
      "Coefficients:  [[ 0.04037804 -0.06406973  0.00442855  0.15894011  0.08264299  0.40403169\n",
      "  -0.21810821  0.08286512  0.14971494 -0.24903897 -0.12776746  0.16584035\n",
      "  -0.08779652 -0.459899   -0.06170906 -0.20996914  0.12845014 -0.27206267\n",
      "  -0.06984527 -0.31025868  0.13080044  0.49095304 -0.05504886  0.34812794\n",
      "   0.05710442  0.19395071 -0.6319153  -0.69437245  0.28132322]]\n",
      "Training accuracy: 0.8262331838565022\n",
      "Testing accuracy: 0.9282328569923809\n",
      "Confusion Matrix: [[26403  2032]\n",
      " [   12    34]]\n",
      "f1 score: 0.032196969696969696\n",
      "roc_auc_score: 0.9325632067033126\n",
      "\n",
      "\n",
      "C: 20\n",
      "Coefficients:  [[ 0.04016734 -0.06419108  0.00453054  0.15882838  0.08237311  0.40379146\n",
      "  -0.21785087  0.08275181  0.1497048  -0.24874322 -0.12770748  0.1655944\n",
      "  -0.08775486 -0.45997808 -0.06174592 -0.20991155  0.12858265 -0.27225188\n",
      "  -0.06991889 -0.30986889  0.13078949  0.49097311 -0.05509172  0.34771293\n",
      "   0.05679318  0.1941168  -0.63133338 -0.69339369  0.28095828]]\n",
      "Training accuracy: 0.8262331838565022\n",
      "Testing accuracy: 0.928267968119097\n",
      "Confusion Matrix: [[26404  2031]\n",
      " [   12    34]]\n",
      "f1 score: 0.03221222169587873\n",
      "roc_auc_score: 0.9325739099853977\n",
      "\n",
      "\n",
      "C: 10\n",
      "Coefficients:  [[ 0.03977574 -0.06511555  0.00432036  0.15890877  0.08112806  0.40316161\n",
      "  -0.21647453  0.08218438  0.1491986  -0.24828034 -0.12741051  0.16549695\n",
      "  -0.08755932 -0.45957217 -0.06193827 -0.21027444  0.12828492 -0.27132289\n",
      "  -0.0700845  -0.30860115  0.13078597  0.48998996 -0.05571556  0.34640421\n",
      "   0.05592626  0.19377774 -0.62991715 -0.68918234  0.27798146]]\n",
      "Training accuracy: 0.8262331838565022\n",
      "Testing accuracy: 0.9285839682595415\n",
      "Confusion Matrix: [[26413  2022]\n",
      " [   12    34]]\n",
      "f1 score: 0.03235014272121789\n",
      "roc_auc_score: 0.932710759092056\n",
      "\n",
      "\n",
      "C: 1\n",
      "Coefficients:  [[ 3.26999774e-02 -7.85987361e-02  5.28900802e-04  1.60365679e-01\n",
      "   6.35054634e-02  3.92659600e-01 -1.93434446e-01  7.29779715e-02\n",
      "   1.45589348e-01 -2.40524568e-01 -1.22441725e-01  1.63072192e-01\n",
      "  -8.42537522e-02 -4.53972963e-01 -6.56789080e-02 -2.12506923e-01\n",
      "   1.23370143e-01 -2.60601199e-01 -6.98036400e-02 -2.88431961e-01\n",
      "   1.28463810e-01  4.72547457e-01 -6.62083043e-02  3.24873886e-01\n",
      "   4.09162181e-02  1.88494978e-01 -6.03619082e-01 -6.18054026e-01\n",
      "   2.33049206e-01]]\n",
      "Training accuracy: 0.8251121076233184\n",
      "Testing accuracy: 0.9331133036059127\n",
      "Confusion Matrix: [[26542  1893]\n",
      " [   12    34]]\n",
      "f1 score: 0.03446528129751647\n",
      "roc_auc_score: 0.9347757280143119\n",
      "\n",
      "\n",
      "C: 0.1\n",
      "Coefficients:  [[ 0.00875401 -0.11224851 -0.00852603  0.1542902   0.00140062  0.3180728\n",
      "  -0.10530884  0.03329986  0.11735473 -0.1821542  -0.0946785   0.14144155\n",
      "  -0.06674399 -0.41791317 -0.07802837 -0.21146473  0.08871127 -0.20160988\n",
      "  -0.05586317 -0.20721591  0.10271214  0.36671359 -0.08738353  0.20447996\n",
      "  -0.0109837   0.14373248 -0.44720759 -0.32124891  0.08982258]]\n",
      "Training accuracy: 0.8251121076233184\n",
      "Testing accuracy: 0.9578666479407324\n",
      "Confusion Matrix: [[27245  1190]\n",
      " [   10    36]]\n",
      "f1 score: 0.05660377358490567\n",
      "roc_auc_score: 0.9459667739543276\n",
      "\n",
      "\n",
      "C: 0.01\n",
      "Coefficients:  [[ 6.03915439e-03 -7.56779581e-02 -1.22676675e-02  1.09214601e-01\n",
      "  -1.29798819e-02  1.40255689e-01 -2.18323607e-02 -1.49001304e-02\n",
      "   2.74816286e-02 -7.74036886e-02 -2.67626278e-02  5.14070833e-02\n",
      "  -3.70491117e-02 -2.83789271e-01 -4.68946369e-02 -1.31928141e-01\n",
      "  -1.15157924e-02 -8.76274941e-02  1.81455837e-04 -9.44827979e-02\n",
      "   3.76655272e-02  1.29794381e-01 -4.65173590e-02  4.50168569e-02\n",
      "  -2.91082227e-02  4.29100546e-02 -1.54410457e-01 -6.58484193e-02\n",
      "   3.37889328e-02]]\n",
      "Training accuracy: 0.8385650224215246\n",
      "Testing accuracy: 0.9968399985955549\n",
      "Confusion Matrix: [[28356    79]\n",
      " [   11    35]]\n",
      "f1 score: 0.4375\n",
      "roc_auc_score: 0.9631807096276023\n",
      "\n",
      "\n",
      "C: 0.05\n",
      "Coefficients:  [[ 0.00365103 -0.11026247 -0.00951771  0.14465237 -0.012651    0.27043207\n",
      "  -0.07488     0.01705246  0.0964736  -0.1472174  -0.07821043  0.12333444\n",
      "  -0.05798706 -0.39063746 -0.07701392 -0.19926921  0.06356538 -0.16897007\n",
      "  -0.04114885 -0.17449203  0.08320818  0.30067538 -0.08173832  0.14648996\n",
      "  -0.02370066  0.11278953 -0.35841341 -0.21682105  0.05930288]]\n",
      "Training accuracy: 0.8251121076233184\n",
      "Testing accuracy: 0.9715248762332783\n",
      "Confusion Matrix: [[27634   801]\n",
      " [   10    36]]\n",
      "f1 score: 0.08154020385050964\n",
      "roc_auc_score: 0.9516165778549093\n",
      "\n",
      "\n",
      "C: 0.001\n",
      "Coefficients:  [[ 0.01683041 -0.01734993 -0.01494891  0.05040172  0.00500097  0.02208161\n",
      "  -0.00299769 -0.01843911 -0.01792097 -0.04582181  0.02641571 -0.03918194\n",
      "  -0.0112744  -0.12761545 -0.00589638 -0.05494719 -0.05506636 -0.02760424\n",
      "   0.01231233 -0.01727657  0.01429585  0.0197482  -0.00590041  0.00309059\n",
      "  -0.01021686  0.00789395 -0.02113531 -0.00765758  0.01281914]]\n",
      "Training accuracy: 0.8374439461883408\n",
      "Testing accuracy: 0.999403110845827\n",
      "Confusion Matrix: [[28428     7]\n",
      " [   10    36]]\n",
      "f1 score: 0.8089887640449438\n",
      "roc_auc_score: 0.9723557159348934\n",
      "\n",
      "\n",
      "C: 0.005\n",
      "Coefficients:  [[ 0.01064235 -0.05618695 -0.01380351  0.0906443  -0.00552215  0.09125241\n",
      "  -0.00902667 -0.02189713  0.00278775 -0.06164557 -0.00388502  0.01473262\n",
      "  -0.02826677 -0.22963381 -0.0289454  -0.10019592 -0.0361106  -0.06087053\n",
      "   0.01008337 -0.06261753  0.0262572   0.07753405 -0.03008998  0.02337522\n",
      "  -0.02398639  0.02572268 -0.09264189 -0.03643242  0.02860466]]\n",
      "Training accuracy: 0.8385650224215246\n",
      "Testing accuracy: 0.9982795547909132\n",
      "Confusion Matrix: [[28396    39]\n",
      " [   10    36]]\n",
      "f1 score: 0.5950413223140497\n",
      "roc_auc_score: 0.9670705881453506\n",
      "\n",
      "\n",
      "C: 0.0001\n",
      "Coefficients:  [[-1.44091481e-03  5.65579628e-03 -1.68871510e-02  1.69639644e-02\n",
      "  -5.66048630e-03 -1.38551401e-03 -1.15614018e-02  2.40739346e-03\n",
      "  -1.01371396e-02 -2.34541502e-02  1.77315830e-02 -2.90711290e-02\n",
      "  -1.18998398e-03 -4.22475848e-02 -6.96031027e-04 -2.32338706e-02\n",
      "  -3.39631604e-02 -1.22653976e-02  5.30566764e-03 -1.80160702e-03\n",
      "   6.17124346e-03  2.06936828e-03 -9.54048749e-05 -2.56395600e-04\n",
      "  -1.45241287e-03  1.39193999e-03 -1.20715908e-03 -3.34117402e-04\n",
      "   1.22759664e-03]]\n",
      "Training accuracy: 0.8195067264573991\n",
      "Testing accuracy: 0.9993328885923949\n",
      "Confusion Matrix: [[28429     6]\n",
      " [   13    33]]\n",
      "f1 score: 0.776470588235294\n",
      "roc_auc_score: 0.9684413727723794\n",
      "\n",
      "\n"
     ]
    }
   ],
   "source": [
    "C = [30,20,10,1,0.1,0.01, 0.05, 0.001,0.005,0.0001]\n",
    "\n",
    "for c in C:\n",
    "    clf_l2_us = LogisticRegression(penalty = 'l2', C = c\n",
    "                                   , solver = 'lbfgs', max_iter = 100000).fit(X_train_Usample, Y_train_Usample)\n",
    "    print('C:', c)\n",
    "    print(\"Coefficients: \", clf_l2_us.coef_)\n",
    "    print(\"Training accuracy:\" , clf_l2_us.score(X_train_Usample, Y_train_Usample))\n",
    "    print(\"Testing accuracy:\", clf_l2_us.score(X_test, Y_test))\n",
    "    yhat = clf_l2_us.predict(X_test)\n",
    "    print(\"Confusion Matrix:\", confusion_matrix(Y_test, yhat))\n",
    "    print(\"f1 score:\", f1_score(Y_test, yhat))\n",
    "    predictions = clf_l2_us.predict_proba(X_test)\n",
    "    print(\"roc_auc_score:\" , roc_auc_score(Y_test,predictions[:,1]))\n",
    "    print(\"\\n\")"
   ]
  },
  {
   "cell_type": "markdown",
   "metadata": {},
   "source": [
    "Logistic Regression with L1 Regularization"
   ]
  },
  {
   "cell_type": "code",
   "execution_count": 275,
   "metadata": {},
   "outputs": [
    {
     "name": "stdout",
     "output_type": "stream",
     "text": [
      "C: 30\n",
      "Coefficients:  [[ 3.40401729e-02 -8.00073626e-02 -6.41913222e-04  1.62225102e-01\n",
      "   6.76351309e-02  4.06012582e-01 -1.99422585e-01  7.66818640e-02\n",
      "   1.47985683e-01 -2.50187617e-01 -1.25339692e-01  1.65203373e-01\n",
      "  -8.62673841e-02 -4.57734980e-01 -6.30005673e-02 -2.13178025e-01\n",
      "   1.27861697e-01 -2.67092692e-01 -7.30551712e-02 -2.92879661e-01\n",
      "   1.33733128e-01  4.84588951e-01 -6.84474974e-02  3.43884889e-01\n",
      "   4.37921339e-02  1.94322184e-01 -6.26043645e-01 -6.51461293e-01\n",
      "   2.35463530e-01]]\n",
      "Training accuracy: 0.8239910313901345\n",
      "Testing accuracy: 0.9293564130472947\n",
      "Confusion Matrix: [[26435  2000]\n",
      " [   12    34]]\n",
      "f1 score: 0.03269230769230769\n",
      "roc_auc_score: 0.933170235701562\n",
      "\n",
      "\n",
      "C: 20\n",
      "Coefficients:  [[ 0.03366274 -0.08064492 -0.00071191  0.16209301  0.06661825  0.40530939\n",
      "  -0.19834273  0.07619075  0.14748193 -0.24952006 -0.12501347  0.16489045\n",
      "  -0.08593823 -0.45752521 -0.0631459  -0.21312941  0.1276216  -0.26649053\n",
      "  -0.07295478 -0.29176021  0.13363776  0.48372898 -0.06889902  0.34255702\n",
      "   0.04276837  0.19354068 -0.62491245 -0.64876846  0.23329913]]\n",
      "Training accuracy: 0.8251121076233184\n",
      "Testing accuracy: 0.9297777465678874\n",
      "Confusion Matrix: [[26447  1988]\n",
      " [   12    34]]\n",
      "f1 score: 0.032882011605415866\n",
      "roc_auc_score: 0.9332895008447949\n",
      "\n",
      "\n",
      "C: 10\n",
      "Coefficients:  [[ 0.03253508 -0.08253667 -0.00091864  0.16170874  0.06359422  0.40321073\n",
      "  -0.19512065  0.07472582  0.14599247 -0.2475374  -0.1240367   0.16396479\n",
      "  -0.08495972 -0.45689662 -0.06357118 -0.21298398  0.12689613 -0.26468551\n",
      "  -0.07265688 -0.28842636  0.13335114  0.48116088 -0.07024201  0.3385976\n",
      "   0.03971618  0.19122731 -0.62153773 -0.64080242  0.22685632]]\n",
      "Training accuracy: 0.8251121076233184\n",
      "Testing accuracy: 0.9304799691022085\n",
      "Confusion Matrix: [[26467  1968]\n",
      " [   12    34]]\n",
      "f1 score: 0.033203125\n",
      "roc_auc_score: 0.9335800185013876\n",
      "\n",
      "\n",
      "C: 1\n",
      "Coefficients:  [[ 0.01439854 -0.1144372  -0.00425928  0.15453106  0.01284491  0.36703151\n",
      "  -0.1421564   0.0494576   0.11904075 -0.21143677 -0.10750629  0.14686611\n",
      "  -0.06735298 -0.44641951 -0.07014365 -0.2094001   0.11414664 -0.23370001\n",
      "  -0.06470373 -0.23330164  0.12812296  0.4379719  -0.09386027  0.27147111\n",
      "   0.          0.14768635 -0.56402979 -0.50483305  0.12072711]]\n",
      "Training accuracy: 0.827354260089686\n",
      "Testing accuracy: 0.9444190864084828\n",
      "Confusion Matrix: [[26863  1572]\n",
      " [   11    35]]\n",
      "f1 score: 0.04234724742891712\n",
      "roc_auc_score: 0.9393215648198409\n",
      "\n",
      "\n",
      "C: 0.1\n",
      "Coefficients:  [[-0.00125486 -0.09593932 -0.0256136   0.05038409  0.          0.22279377\n",
      "  -0.03900304  0.          0.         -0.00350821 -0.00887065  0.03882247\n",
      "   0.         -0.33832916 -0.0009809  -0.16683728  0.         -0.08815818\n",
      "   0.         -0.06720293  0.01402307  0.11094336 -0.04060704  0.\n",
      "   0.          0.         -0.26586231  0.          0.        ]]\n",
      "Training accuracy: 0.8307174887892377\n",
      "Testing accuracy: 0.9934342193040975\n",
      "Confusion Matrix: [[28259   176]\n",
      " [   11    35]]\n",
      "f1 score: 0.2723735408560311\n",
      "roc_auc_score: 0.9459637158737318\n",
      "\n",
      "\n",
      "C: 0.01\n",
      "Coefficients:  [[ 0.          0.          0.          0.          0.          0.\n",
      "   0.         -0.01291892  0.          0.          0.          0.\n",
      "   0.         -0.21420222  0.          0.         -0.10781102  0.\n",
      "   0.          0.          0.          0.          0.          0.\n",
      "   0.          0.          0.          0.          0.        ]]\n",
      "Training accuracy: 0.8374439461883408\n",
      "Testing accuracy: 0.9988413328183702\n",
      "Confusion Matrix: [[28413    22]\n",
      " [   11    35]]\n",
      "f1 score: 0.679611650485437\n",
      "roc_auc_score: 0.9180312077124793\n",
      "\n",
      "\n",
      "C: 0.05\n",
      "Coefficients:  [[ 0.         -0.04641599  0.          0.04001283  0.          0.1406999\n",
      "  -0.02039163 -0.0057055   0.          0.          0.          0.\n",
      "   0.         -0.27977306  0.         -0.17076894 -0.01402865 -0.0305068\n",
      "   0.          0.          0.          0.02682748  0.          0.\n",
      "   0.          0.         -0.10212892  0.          0.        ]]\n",
      "Training accuracy: 0.8408071748878924\n",
      "Testing accuracy: 0.9980337769039008\n",
      "Confusion Matrix: [[28389    46]\n",
      " [   10    36]]\n",
      "f1 score: 0.5625\n",
      "roc_auc_score: 0.9461984235594529\n",
      "\n",
      "\n",
      "C: 0.001\n",
      "Coefficients:  [[ 0.          0.          0.          0.          0.          0.\n",
      "   0.          0.          0.          0.          0.          0.\n",
      "   0.          0.          0.          0.         -0.04651224  0.\n",
      "   0.          0.          0.          0.          0.          0.\n",
      "   0.          0.          0.          0.          0.        ]]\n",
      "Training accuracy: 0.7466367713004485\n",
      "Testing accuracy: 0.9991573329588147\n",
      "Confusion Matrix: [[28423    12]\n",
      " [   12    34]]\n",
      "f1 score: 0.7391304347826085\n",
      "roc_auc_score: 0.8287054380318193\n",
      "\n",
      "\n",
      "C: 0.005\n",
      "Coefficients:  [[ 0.          0.          0.          0.          0.          0.\n",
      "   0.          0.          0.          0.          0.          0.\n",
      "   0.         -0.16957178  0.          0.         -0.09568284  0.\n",
      "   0.          0.          0.          0.          0.          0.\n",
      "   0.          0.          0.          0.          0.        ]]\n",
      "Training accuracy: 0.8329596412556054\n",
      "Testing accuracy: 0.9990168884519505\n",
      "Confusion Matrix: [[28418    17]\n",
      " [   11    35]]\n",
      "f1 score: 0.7142857142857143\n",
      "roc_auc_score: 0.9111941040206115\n",
      "\n",
      "\n"
     ]
    }
   ],
   "source": [
    "C = [30,20,10,1,0.1,0.01, 0.05, 0.001,0.005]\n",
    "\n",
    "for c in C:\n",
    "    clf_l1_us = LogisticRegression(penalty = 'l1', C = c\n",
    "                                   , solver = 'saga', max_iter = 100000).fit(X_train_Usample, Y_train_Usample)\n",
    "    print('C:', c)\n",
    "    print(\"Coefficients: \", clf_l1_us.coef_)\n",
    "    print(\"Training accuracy:\" , clf_l1_us.score(X_train_Usample, Y_train_Usample))\n",
    "    print(\"Testing accuracy:\", clf_l1_us.score(X_test, Y_test))\n",
    "    yhat = clf_l1_us.predict(X_test)\n",
    "    print(\"Confusion Matrix:\", confusion_matrix(Y_test, yhat))\n",
    "    print(\"f1 score:\", f1_score(Y_test, yhat))\n",
    "    predictions = clf_l1_us.predict_proba(X_test)\n",
    "    print(\"roc_auc_score:\" , roc_auc_score(Y_test,predictions[:,1]))\n",
    "    print(\"\\n\")"
   ]
  },
  {
   "cell_type": "markdown",
   "metadata": {},
   "source": [
    "Logistic Regression with Elasticnet"
   ]
  },
  {
   "cell_type": "code",
   "execution_count": 276,
   "metadata": {},
   "outputs": [
    {
     "name": "stdout",
     "output_type": "stream",
     "text": [
      "C: 30\n",
      "Coefficients:  [[ 3.42951719e-02 -7.96042072e-02 -6.33042200e-04  1.62363520e-01\n",
      "   6.83359195e-02  4.06511484e-01 -2.00103280e-01  7.70095941e-02\n",
      "   1.48402428e-01 -2.50688060e-01 -1.25576803e-01  1.65458112e-01\n",
      "  -8.65309533e-02 -4.57845879e-01 -6.29272650e-02 -2.13260483e-01\n",
      "   1.28017338e-01 -2.67504088e-01 -7.31412136e-02 -2.93642296e-01\n",
      "   1.33778770e-01  4.85128307e-01 -6.81677519e-02  3.44805901e-01\n",
      "   4.45528709e-02  1.94968083e-01 -6.26674985e-01 -6.52828878e-01\n",
      "   2.36853139e-01]]\n",
      "Training accuracy: 0.8239910313901345\n",
      "Testing accuracy: 0.9291457462869983\n",
      "Confusion Matrix: [[26429  2006]\n",
      " [   12    34]]\n",
      "f1 score: 0.032598274209012464\n",
      "roc_auc_score: 0.9330899610859245\n",
      "\n",
      "\n",
      "C: 20\n",
      "Coefficients:  [[ 0.03403427 -0.08006373 -0.00070828  0.16230636  0.06764675  0.40606639\n",
      "  -0.19933187  0.07667288  0.14811184 -0.25026932 -0.125365    0.16527468\n",
      "  -0.08633387 -0.45768795 -0.06303167 -0.21327536  0.12784907 -0.26708108\n",
      "  -0.07310333 -0.29286892  0.13371203  0.48452843 -0.06850288  0.34392881\n",
      "   0.04388855  0.19453761 -0.62584104 -0.65082238  0.23530552]]\n",
      "Training accuracy: 0.8239910313901345\n",
      "Testing accuracy: 0.9293564130472947\n",
      "Confusion Matrix: [[26435  2000]\n",
      " [   12    34]]\n",
      "f1 score: 0.03269230769230769\n",
      "roc_auc_score: 0.9331725292620088\n",
      "\n",
      "\n",
      "C: 10\n",
      "Coefficients:  [[ 0.03330686 -0.08129082 -0.0008764   0.1621267   0.06571395  0.40467239\n",
      "  -0.19718295  0.07571268  0.14726227 -0.24903499 -0.12474674  0.16474288\n",
      "  -0.08575108 -0.45722818 -0.06335324 -0.2132369   0.12735221 -0.26590757\n",
      "  -0.0729191  -0.29075023  0.13347301  0.48277785 -0.06937519  0.34132536\n",
      "   0.04200446  0.19321843 -0.62343114 -0.64493847  0.2311104 ]]\n",
      "Training accuracy: 0.8251121076233184\n",
      "Testing accuracy: 0.9300937467083319\n",
      "Confusion Matrix: [[26456  1979]\n",
      " [   12    34]]\n",
      "f1 score: 0.03302574065080136\n",
      "roc_auc_score: 0.9333835368231129\n",
      "\n",
      "\n",
      "C: 1\n",
      "Coefficients:  [[ 0.02098519 -0.10238786 -0.00382617  0.15837389  0.03269104  0.38111511\n",
      "  -0.16071102  0.0593777   0.13182095 -0.22724173 -0.11400861  0.15517249\n",
      "  -0.07549336 -0.4493479  -0.06847513 -0.21279206  0.11878566 -0.24529711\n",
      "  -0.06989451 -0.25435981  0.12924253  0.45226352 -0.08401782  0.29692941\n",
      "   0.00961763  0.16992183 -0.5819488  -0.54550989  0.15941751]]\n",
      "Training accuracy: 0.827354260089686\n",
      "Testing accuracy: 0.9398195288086795\n",
      "Confusion Matrix: [[26733  1702]\n",
      " [   12    34]]\n",
      "f1 score: 0.038159371492704826\n",
      "roc_auc_score: 0.9372535378169891\n",
      "\n",
      "\n",
      "C: 0.1\n",
      "Coefficients:  [[ 0.         -0.11341693 -0.0258256   0.10486264 -0.01266694  0.25014973\n",
      "  -0.0466119   0.          0.04082766 -0.077089   -0.0508449   0.09180601\n",
      "  -0.00931331 -0.3750668  -0.04063008 -0.16103967  0.01665937 -0.1239928\n",
      "   0.         -0.12193305  0.06255022  0.2326943  -0.08473111  0.07178709\n",
      "   0.          0.         -0.34468213 -0.11311048  0.00275247]]\n",
      "Training accuracy: 0.82847533632287\n",
      "Testing accuracy: 0.9865524384677504\n",
      "Confusion Matrix: [[28064   371]\n",
      " [   12    34]]\n",
      "f1 score: 0.15077605321507762\n",
      "roc_auc_score: 0.9508887546731294\n",
      "\n",
      "\n",
      "C: 0.01\n",
      "Coefficients:  [[ 0.          0.          0.          0.0142888   0.          0.\n",
      "   0.         -0.02783314  0.          0.          0.          0.\n",
      "   0.         -0.22686727  0.         -0.06019165 -0.08564436  0.\n",
      "   0.          0.          0.          0.          0.          0.\n",
      "   0.          0.          0.          0.          0.        ]]\n",
      "Training accuracy: 0.8396860986547086\n",
      "Testing accuracy: 0.9988062216916541\n",
      "Confusion Matrix: [[28412    23]\n",
      " [   11    35]]\n",
      "f1 score: 0.673076923076923\n",
      "roc_auc_score: 0.9264264034678633\n",
      "\n",
      "\n",
      "C: 0.05\n",
      "Coefficients:  [[-0.00130679 -0.08884436 -0.01891123  0.05450508  0.          0.20654246\n",
      "  -0.035735    0.          0.         -0.0117402  -0.00426077  0.03116372\n",
      "   0.         -0.32092198 -0.00088911 -0.16023202  0.         -0.08554616\n",
      "   0.         -0.06202336  0.01243369  0.10161506 -0.03263159  0.\n",
      "   0.          0.         -0.2202314   0.          0.        ]]\n",
      "Training accuracy: 0.8318385650224215\n",
      "Testing accuracy: 0.9947333309925915\n",
      "Confusion Matrix: [[28296   139]\n",
      " [   11    35]]\n",
      "f1 score: 0.3181818181818182\n",
      "roc_auc_score: 0.9471196703389118\n",
      "\n",
      "\n",
      "C: 0.001\n",
      "Coefficients:  [[ 0.          0.          0.          0.          0.          0.\n",
      "   0.          0.          0.          0.          0.          0.\n",
      "   0.         -0.06957813  0.          0.         -0.07401098  0.\n",
      "   0.          0.          0.          0.          0.          0.\n",
      "   0.          0.          0.          0.          0.        ]]\n",
      "Training accuracy: 0.820627802690583\n",
      "Testing accuracy: 0.9991222218320986\n",
      "Confusion Matrix: [[28421    14]\n",
      " [   11    35]]\n",
      "f1 score: 0.7368421052631581\n",
      "roc_auc_score: 0.8799626914167322\n",
      "\n",
      "\n",
      "C: 0.005\n",
      "Coefficients:  [[ 0.          0.          0.          0.          0.          0.\n",
      "   0.         -0.01011023  0.         -0.00372735  0.          0.\n",
      "   0.         -0.20155649  0.          0.         -0.10625104  0.\n",
      "   0.          0.          0.          0.          0.          0.\n",
      "   0.          0.          0.          0.          0.        ]]\n",
      "Training accuracy: 0.8363228699551569\n",
      "Testing accuracy: 0.9989466661985184\n",
      "Confusion Matrix: [[28416    19]\n",
      " [   11    35]]\n",
      "f1 score: 0.7000000000000001\n",
      "roc_auc_score: 0.9173270846553161\n",
      "\n",
      "\n"
     ]
    }
   ],
   "source": [
    "C = [30,20,10,1,0.1,0.01, 0.05, 0.001,0.005]\n",
    "\n",
    "for c in C:\n",
    "    clf_enet_us = LogisticRegression(penalty = 'elasticnet', C = c\n",
    "                                   , solver = 'saga', max_iter = 100000, l1_ratio = 0.5).fit(X_train_Usample, Y_train_Usample)\n",
    "    print('C:', c)\n",
    "    print(\"Coefficients: \", clf_enet_us.coef_)\n",
    "    print(\"Training accuracy:\" , clf_enet_us.score(X_train_Usample, Y_train_Usample))\n",
    "    print(\"Testing accuracy:\", clf_enet_us.score(X_test, Y_test))\n",
    "    yhat = clf_enet_us.predict(X_test)\n",
    "    print(\"Confusion Matrix:\", confusion_matrix(Y_test, yhat))\n",
    "    print(\"f1 score:\", f1_score(Y_test, yhat))\n",
    "    predictions = clf_enet_us.predict_proba(X_test)\n",
    "    print(\"roc_auc_score:\" , roc_auc_score(Y_test,predictions[:,1]))\n",
    "    print(\"\\n\")"
   ]
  },
  {
   "cell_type": "markdown",
   "metadata": {},
   "source": [
    "Support Vector Machine with different Kernels"
   ]
  },
  {
   "cell_type": "code",
   "execution_count": 279,
   "metadata": {},
   "outputs": [],
   "source": [
    "from sklearn.linear_model import SGDClassifier\n",
    "from sklearn.svm import SVC"
   ]
  },
  {
   "cell_type": "code",
   "execution_count": 297,
   "metadata": {},
   "outputs": [
    {
     "name": "stdout",
     "output_type": "stream",
     "text": [
      "C: 30\n",
      "Training accuracy: 0.9798206278026906\n",
      "Testing accuracy: 0.9444893086619149\n",
      "Confusion Matrix: [[26862  1573]\n",
      " [    8    38]]\n",
      "f1 score: 0.045866022933011466\n",
      "\n",
      "\n",
      "C: 20\n",
      "Training accuracy: 0.976457399103139\n",
      "Testing accuracy: 0.9557248692110529\n",
      "Confusion Matrix: [[27183  1252]\n",
      " [    9    37]]\n",
      "f1 score: 0.05543071161048689\n",
      "\n",
      "\n",
      "C: 10\n",
      "Training accuracy: 0.9674887892376681\n",
      "Testing accuracy: 0.9726484322881921\n",
      "Confusion Matrix: [[27667   768]\n",
      " [   11    35]]\n",
      "f1 score: 0.08244994110718493\n",
      "\n",
      "\n",
      "C: 1\n",
      "Training accuracy: 0.9372197309417041\n",
      "Testing accuracy: 0.9961728871879498\n",
      "Confusion Matrix: [[28337    98]\n",
      " [   11    35]]\n",
      "f1 score: 0.39106145251396646\n",
      "\n",
      "\n",
      "C: 0.1\n",
      "Training accuracy: 0.9147982062780269\n",
      "Testing accuracy: 0.9969453319757031\n",
      "Confusion Matrix: [[28361    74]\n",
      " [   13    33]]\n",
      "f1 score: 0.4313725490196078\n",
      "\n",
      "\n",
      "C: 0.01\n",
      "Training accuracy: 0.850896860986547\n",
      "Testing accuracy: 0.9983497770443454\n",
      "Confusion Matrix: [[28404    31]\n",
      " [   16    30]]\n",
      "f1 score: 0.5607476635514019\n",
      "\n",
      "\n",
      "C: 0.05\n",
      "Training accuracy: 0.9024663677130045\n",
      "Testing accuracy: 0.9969804431024192\n",
      "Confusion Matrix: [[28363    72]\n",
      " [   14    32]]\n",
      "f1 score: 0.42666666666666664\n",
      "\n",
      "\n",
      "C: 0.001\n",
      "Training accuracy: 0.8004484304932735\n",
      "Testing accuracy: 0.9991573329588147\n",
      "Confusion Matrix: [[28430     5]\n",
      " [   19    27]]\n",
      "f1 score: 0.6923076923076924\n",
      "\n",
      "\n",
      "C: 0.005\n",
      "Training accuracy: 0.8374439461883408\n",
      "Testing accuracy: 0.9988764439450862\n",
      "Confusion Matrix: [[28419    16]\n",
      " [   16    30]]\n",
      "f1 score: 0.6521739130434783\n",
      "\n",
      "\n"
     ]
    }
   ],
   "source": [
    "C = [30,20,10,1,0.1,0.01, 0.05, 0.001,0.005]\n",
    "\n",
    "for c in C:\n",
    "    print('C:', c)\n",
    "    clf_svm_us = SVC(C = c , kernel = 'poly' , gamma = 'auto'\n",
    "                     , random_state = 20).fit(X_train_Usample, Y_train_Usample)\n",
    "    print(\"Training accuracy:\" , clf_svm_us.score(X_train_Usample, Y_train_Usample))\n",
    "    print(\"Testing accuracy:\", clf_svm_us.score(X_test, Y_test))\n",
    "    yhat = clf_svm_us.predict(X_test)\n",
    "    print(\"Confusion Matrix:\", confusion_matrix(Y_test, yhat))\n",
    "    print(\"f1 score:\", f1_score(Y_test, yhat))\n",
    "    print(\"\\n\")"
   ]
  },
  {
   "cell_type": "code",
   "execution_count": 298,
   "metadata": {},
   "outputs": [
    {
     "name": "stdout",
     "output_type": "stream",
     "text": [
      "C: 30\n",
      "Training accuracy: 0.9798206278026906\n",
      "Testing accuracy: 0.8850812822583477\n",
      "Confusion Matrix: [[25165  3270]\n",
      " [    3    43]]\n",
      "f1 score: 0.02560285799345043\n",
      "\n",
      "\n",
      "C: 20\n",
      "Training accuracy: 0.9742152466367713\n",
      "Testing accuracy: 0.9081844036375127\n",
      "Confusion Matrix: [[25823  2612]\n",
      " [    3    43]]\n",
      "f1 score: 0.03184005923731951\n",
      "\n",
      "\n",
      "C: 10\n",
      "Training accuracy: 0.9573991031390134\n",
      "Testing accuracy: 0.9284084126259612\n",
      "Confusion Matrix: [[26401  2034]\n",
      " [    5    41]]\n",
      "f1 score: 0.03866100895803866\n",
      "\n",
      "\n",
      "C: 1\n",
      "Training accuracy: 0.9181614349775785\n",
      "Testing accuracy: 0.9758786559460693\n",
      "Confusion Matrix: [[27756   679]\n",
      " [    8    38]]\n",
      "f1 score: 0.09960681520314547\n",
      "\n",
      "\n",
      "C: 0.1\n",
      "Training accuracy: 0.773542600896861\n",
      "Testing accuracy: 0.9129244057441803\n",
      "Confusion Matrix: [[25962  2473]\n",
      " [    7    39]]\n",
      "f1 score: 0.030492572322126658\n",
      "\n",
      "\n",
      "C: 0.01\n",
      "Training accuracy: 0.7073991031390134\n",
      "Testing accuracy: 0.826691478529546\n",
      "Confusion Matrix: [[23504  4931]\n",
      " [    5    41]]\n",
      "f1 score: 0.01634117178158629\n",
      "\n",
      "\n",
      "C: 0.05\n",
      "Training accuracy: 0.7466367713004485\n",
      "Testing accuracy: 0.877813279028124\n",
      "Confusion Matrix: [[24960  3475]\n",
      " [    5    41]]\n",
      "f1 score: 0.02302077484559236\n",
      "\n",
      "\n",
      "C: 0.001\n",
      "Training accuracy: 0.7073991031390134\n",
      "Testing accuracy: 0.826691478529546\n",
      "Confusion Matrix: [[23504  4931]\n",
      " [    5    41]]\n",
      "f1 score: 0.01634117178158629\n",
      "\n",
      "\n",
      "C: 0.005\n",
      "Training accuracy: 0.7073991031390134\n",
      "Testing accuracy: 0.826691478529546\n",
      "Confusion Matrix: [[23504  4931]\n",
      " [    5    41]]\n",
      "f1 score: 0.01634117178158629\n",
      "\n",
      "\n"
     ]
    }
   ],
   "source": [
    "C = [30,20,10,1,0.1,0.01, 0.05, 0.001,0.005]\n",
    "\n",
    "for c in C:\n",
    "    print('C:', c)\n",
    "    clf_svm_us = SVC(C = c , kernel = 'rbf' , gamma = 'auto'\n",
    "                     , random_state = 20).fit(X_train_Usample, Y_train_Usample)\n",
    "    print(\"Training accuracy:\" , clf_svm_us.score(X_train_Usample, Y_train_Usample))\n",
    "    print(\"Testing accuracy:\", clf_svm_us.score(X_test, Y_test))\n",
    "    yhat = clf_svm_us.predict(X_test)\n",
    "    print(\"Confusion Matrix:\", confusion_matrix(Y_test, yhat))\n",
    "    print(\"f1 score:\", f1_score(Y_test, yhat))\n",
    "    print(\"\\n\")"
   ]
  },
  {
   "cell_type": "markdown",
   "metadata": {},
   "source": [
    "Naive Bayes Classifier"
   ]
  },
  {
   "cell_type": "code",
   "execution_count": 316,
   "metadata": {},
   "outputs": [],
   "source": [
    "clf_NB_us = GaussianNB().fit(X_train_Usample, Y_train_Usample)"
   ]
  },
  {
   "cell_type": "code",
   "execution_count": 317,
   "metadata": {},
   "outputs": [
    {
     "name": "stdout",
     "output_type": "stream",
     "text": [
      "Training accuracy: 0.742152466367713\n",
      "Testing accuracy: 0.9927319967697763\n",
      "Confusion Matrix: [[28246   189]\n",
      " [   18    28]]\n",
      "AUC Score: 0.9264745682372459\n",
      "f1 score: 0.21292775665399238\n",
      "\n",
      "\n"
     ]
    }
   ],
   "source": [
    "print(\"Training accuracy:\" , clf_NB_us.score(X_train_Usample, Y_train_Usample))\n",
    "print(\"Testing accuracy:\", clf_NB_us.score(X_test, Y_test))\n",
    "yhat = clf_NB_us.predict(X_test)\n",
    "predictions = clf_NB_us.predict_proba(X_test)\n",
    "print(\"Confusion Matrix:\", confusion_matrix(Y_test, yhat))\n",
    "print(\"AUC Score:\", roc_auc_score(Y_test,predictions[:,1]))\n",
    "print(\"f1 score:\", f1_score(Y_test, yhat))\n",
    "print(\"\\n\")"
   ]
  },
  {
   "cell_type": "markdown",
   "metadata": {},
   "source": [
    "### SMOTE Over Sampling "
   ]
  },
  {
   "cell_type": "code",
   "execution_count": 375,
   "metadata": {},
   "outputs": [],
   "source": [
    "from imblearn.over_sampling import SMOTE"
   ]
  },
  {
   "cell_type": "code",
   "execution_count": 376,
   "metadata": {},
   "outputs": [],
   "source": [
    "from collections import Counter"
   ]
  },
  {
   "cell_type": "code",
   "execution_count": 377,
   "metadata": {},
   "outputs": [
    {
     "data": {
      "text/plain": [
       "Counter({0: 255882, 1: 444})"
      ]
     },
     "execution_count": 377,
     "metadata": {},
     "output_type": "execute_result"
    }
   ],
   "source": [
    "# Before Oversampling\n",
    "Counter(Y_train)"
   ]
  },
  {
   "cell_type": "code",
   "execution_count": 378,
   "metadata": {},
   "outputs": [],
   "source": [
    "X_train_os, Y_train_os = SMOTE(random_state = 45\n",
    "                   , sampling_strategy = 'minority'\n",
    "                   , k_neighbors = 5).fit_resample(X_train, Y_train)"
   ]
  },
  {
   "cell_type": "code",
   "execution_count": 379,
   "metadata": {},
   "outputs": [
    {
     "data": {
      "text/plain": [
       "Counter({0: 255882, 1: 255882})"
      ]
     },
     "execution_count": 379,
     "metadata": {},
     "output_type": "execute_result"
    }
   ],
   "source": [
    "# After over sampling\n",
    "Counter(Y_train_os)"
   ]
  },
  {
   "cell_type": "code",
   "execution_count": 329,
   "metadata": {},
   "outputs": [],
   "source": [
    "# Logistic Regression\n",
    "clf_os = LogisticRegressionCV(random_state=0, solver = 'lbfgs'\n",
    "                           , max_iter = 100000, cv = 5).fit(X_train_os, Y_train_os)"
   ]
  },
  {
   "cell_type": "code",
   "execution_count": 330,
   "metadata": {},
   "outputs": [
    {
     "name": "stdout",
     "output_type": "stream",
     "text": [
      "Training accuracy: 0.6849775784753364\n",
      "Testing accuracy: 0.9761244338330817\n",
      "Confusion Matrix: [[27759   676]\n",
      " [    4    42]]\n",
      "AUC Score: 0.982062828265839\n",
      "f1 score: 0.10994764397905758\n",
      "\n",
      "\n"
     ]
    }
   ],
   "source": [
    "print(\"Training accuracy:\" , clf_os.score(X_train_Usample, Y_train_Usample))\n",
    "print(\"Testing accuracy:\", clf_os.score(X_test, Y_test))\n",
    "yhat = clf_os.predict(X_test)\n",
    "predictions = clf_os.predict_proba(X_test)\n",
    "print(\"Confusion Matrix:\", confusion_matrix(Y_test, yhat))\n",
    "print(\"AUC Score:\", roc_auc_score(Y_test,predictions[:,1]))\n",
    "print(\"f1 score:\", f1_score(Y_test, yhat))\n",
    "print(\"\\n\")"
   ]
  },
  {
   "cell_type": "code",
   "execution_count": 335,
   "metadata": {},
   "outputs": [
    {
     "name": "stdout",
     "output_type": "stream",
     "text": [
      "C: 0.005\n",
      "Testing accuracy: 0.9769671008742671\n",
      "Confusion Matrix: [[27783   652]\n",
      " [    4    42]]\n",
      "f1 score: 0.11351351351351352\n",
      "roc_auc_score: 0.98186940466816\n",
      "\n",
      "\n",
      "C: 0.001\n",
      "Testing accuracy: 0.9778799901688845\n",
      "Confusion Matrix: [[27809   626]\n",
      " [    4    42]]\n",
      "f1 score: 0.1176470588235294\n",
      "roc_auc_score: 0.9814217781209623\n",
      "\n",
      "\n",
      "C: 0.0005\n",
      "Testing accuracy: 0.9786875460833538\n",
      "Confusion Matrix: [[27832   603]\n",
      " [    4    42]]\n",
      "f1 score: 0.1215629522431259\n",
      "roc_auc_score: 0.9811041199990825\n",
      "\n",
      "\n",
      "C: 0.0001\n",
      "Testing accuracy: 0.9822688810083916\n",
      "Confusion Matrix: [[27934   501]\n",
      " [    4    42]]\n",
      "f1 score: 0.1426146010186757\n",
      "roc_auc_score: 0.979945871973456\n",
      "\n",
      "\n",
      "C: 5e-05\n",
      "Testing accuracy: 0.9843053263579228\n",
      "Confusion Matrix: [[27995   440]\n",
      " [    7    39]]\n",
      "f1 score: 0.14857142857142855\n",
      "roc_auc_score: 0.9791354806155916\n",
      "\n",
      "\n",
      "C: 1e-05\n",
      "Testing accuracy: 0.9907657736736772\n",
      "Confusion Matrix: [[28179   256]\n",
      " [    7    39]]\n",
      "f1 score: 0.2287390029325513\n",
      "roc_auc_score: 0.9767815230770407\n",
      "\n",
      "\n"
     ]
    }
   ],
   "source": [
    "# Logistic Regression with HyperParameter tuning\n",
    "C = [0.005, 0.001, 0.0005,0.0001, 0.00005,0.00001]\n",
    "\n",
    "for c in C:\n",
    "    clf_l2_os = LogisticRegression(penalty = 'l2', C = c, solver = 'lbfgs').fit(X_train_os, Y_train_os)\n",
    "    print('C:', c)\n",
    "    print(\"Testing accuracy:\", clf_l2_os.score(X_test, Y_test))\n",
    "    yhat = clf_l2_os.predict(X_test)\n",
    "    print(\"Confusion Matrix:\", confusion_matrix(Y_test, yhat))\n",
    "    print(\"f1 score:\", f1_score(Y_test, yhat))\n",
    "    predictions = clf_l2_os.predict_proba(X_test)\n",
    "    print(\"roc_auc_score:\" , roc_auc_score(Y_test,predictions[:,1]))\n",
    "    print(\"\\n\")"
   ]
  },
  {
   "cell_type": "code",
   "execution_count": 343,
   "metadata": {},
   "outputs": [],
   "source": [
    "# Random Forests\n",
    "clf_rf_os = RandomForestClassifier(n_estimators = 1000\n",
    "                                , max_depth = 8\n",
    "                                , random_state = 1\n",
    "                                ).fit(X_train_os, Y_train_os)"
   ]
  },
  {
   "cell_type": "code",
   "execution_count": 344,
   "metadata": {},
   "outputs": [
    {
     "name": "stdout",
     "output_type": "stream",
     "text": [
      "Testing accuracy: 0.9975773322565921\n",
      "Confusion Matrix: [[28373    62]\n",
      " [    7    39]]\n",
      "f1 score: 0.5306122448979592\n",
      "roc_auc_score: 0.9900413605400571\n",
      "\n",
      "\n"
     ]
    }
   ],
   "source": [
    "print(\"Testing accuracy:\", clf_rf_os.score(X_test, Y_test))\n",
    "yhat = clf_rf_os.predict(X_test)\n",
    "print(\"Confusion Matrix:\", confusion_matrix(Y_test, yhat))\n",
    "print(\"f1 score:\", f1_score(Y_test, yhat))\n",
    "predictions = clf_rf_os.predict_proba(X_test)\n",
    "print(\"roc_auc_score:\" , roc_auc_score(Y_test,predictions[:,1]))\n",
    "print(\"\\n\")"
   ]
  },
  {
   "cell_type": "code",
   "execution_count": 345,
   "metadata": {},
   "outputs": [
    {
     "data": {
      "image/png": "[encoded data removed]",
      "text/plain": [
       "<Figure size 432x288 with 1 Axes>"
      ]
     },
     "metadata": {
      "needs_background": "light"
     },
     "output_type": "display_data"
    }
   ],
   "source": [
    "feat_importances = pd.Series(clf_rf_os.feature_importances_, index=X_train.columns)\n",
    "feat_importances.nlargest(20).plot(kind='barh')\n",
    "plt.title(\"Feature Importance Chart\")\n",
    "plt.show()"
   ]
  },
  {
   "cell_type": "code",
   "execution_count": 341,
   "metadata": {},
   "outputs": [],
   "source": [
    "# Bagging Classifier\n",
    "clg_bg_os = BaggingClassifier(n_estimators = 100, max_samples = 0.8\n",
    "                           , random_state = 20).fit(X_train_os, Y_train_os)"
   ]
  },
  {
   "cell_type": "code",
   "execution_count": 342,
   "metadata": {},
   "outputs": [
    {
     "name": "stdout",
     "output_type": "stream",
     "text": [
      "Testing accuracy: 0.9989817773252344\n",
      "Confusion Matrix: [[28416    19]\n",
      " [   10    36]]\n",
      "f1 score: 0.7128712871287128\n",
      "roc_auc_score: 0.9525676409201764\n",
      "\n",
      "\n"
     ]
    }
   ],
   "source": [
    "print(\"Testing accuracy:\", clg_bg_os.score(X_test, Y_test))\n",
    "yhat = clg_bg_os.predict(X_test)\n",
    "print(\"Confusion Matrix:\", confusion_matrix(Y_test, yhat))\n",
    "print(\"f1 score:\", f1_score(Y_test, yhat))\n",
    "predictions = clg_bg_os.predict_proba(X_test)\n",
    "print(\"roc_auc_score:\" , roc_auc_score(Y_test,predictions[:,1]))\n",
    "print(\"\\n\")"
   ]
  },
  {
   "cell_type": "code",
   "execution_count": 388,
   "metadata": {},
   "outputs": [],
   "source": [
    "#XGBoost\n",
    "clf_xgb_os = XGBClassifier(max_depth = 7 , learning_rate = 0.1\n",
    "                        , n_estimators = 500, subsample = 0.6, colsample_bytree = 0.6,\n",
    "                       colsample_bylevel = 0.8).fit(X_train_os, Y_train_os)"
   ]
  },
  {
   "cell_type": "code",
   "execution_count": 389,
   "metadata": {
    "scrolled": true
   },
   "outputs": [
    {
     "data": {
      "image/png": "[encoded data removed]",
      "text/plain": [
       "<Figure size 432x288 with 1 Axes>"
      ]
     },
     "metadata": {
      "needs_background": "light"
     },
     "output_type": "display_data"
    }
   ],
   "source": [
    "feat_importances = pd.Series(clf_xgb_os.feature_importances_, index=X_train.columns)\n",
    "feat_importances.nlargest(20).plot(kind='barh')\n",
    "plt.title(\"Feature Importance Chart\")\n",
    "plt.show()"
   ]
  },
  {
   "cell_type": "code",
   "execution_count": 392,
   "metadata": {},
   "outputs": [
    {
     "name": "stdout",
     "output_type": "stream",
     "text": [
      "Confusion Matrix: [[28427     6]\n",
      " [    7    41]]\n",
      "f1 score: 0.8631578947368421\n",
      "roc_auc_score: 0.9804108195875684\n",
      "\n",
      "\n"
     ]
    }
   ],
   "source": [
    "#print(\"Testing accuracy:\", clf_xgb_os.score(X_test, Y_test))\n",
    "yhat = clf_xgb_os.predict(X_test)\n",
    "print(\"Confusion Matrix:\", confusion_matrix(Y_test, yhat))\n",
    "print(\"f1 score:\", f1_score(Y_test, yhat))\n",
    "predictions = clf_xgb_os.predict_proba(X_test)\n",
    "print(\"roc_auc_score:\" , roc_auc_score(Y_test,predictions[:,1]))\n",
    "print(\"\\n\")"
   ]
  },
  {
   "cell_type": "code",
   "execution_count": 393,
   "metadata": {},
   "outputs": [],
   "source": [
    "# Light GBM\n",
    "clf_lgbm_os = LGBMClassifier(max_depth = 7 , learning_rate = 0.01\n",
    "                        , n_estimators = 500, subsample = 0.6, colsample_bytree = 0.6,\n",
    "                       colsample_bylevel = 0.8).fit(X_train_os, Y_train_os)"
   ]
  },
  {
   "cell_type": "code",
   "execution_count": 394,
   "metadata": {},
   "outputs": [
    {
     "data": {
      "image/png": "[encoded data removed]",
      "text/plain": [
       "<Figure size 432x288 with 1 Axes>"
      ]
     },
     "metadata": {
      "needs_background": "light"
     },
     "output_type": "display_data"
    }
   ],
   "source": [
    "feat_importances = pd.Series(clf_lgbm_os.feature_importances_, index=X_train.columns)\n",
    "feat_importances.nlargest(20).plot(kind='barh')\n",
    "plt.title(\"Feature Importance Chart\")\n",
    "plt.show()"
   ]
  },
  {
   "cell_type": "code",
   "execution_count": 395,
   "metadata": {},
   "outputs": [
    {
     "name": "stdout",
     "output_type": "stream",
     "text": [
      "Testing accuracy: 0.9959973315543695\n",
      "Confusion Matrix: [[28323   110]\n",
      " [    4    44]]\n",
      "f1 score: 0.4356435643564356\n",
      "roc_auc_score: 0.9731756087410168\n",
      "\n",
      "\n"
     ]
    }
   ],
   "source": [
    "print(\"Testing accuracy:\", clf_lgbm_os.score(X_test, Y_test))\n",
    "yhat = clf_lgbm_os.predict(X_test)\n",
    "print(\"Confusion Matrix:\", confusion_matrix(Y_test, yhat))\n",
    "print(\"f1 score:\", f1_score(Y_test, yhat))\n",
    "predictions = clf_lgbm_os.predict_proba(X_test)\n",
    "print(\"roc_auc_score:\" , roc_auc_score(Y_test,predictions[:,1]))\n",
    "print(\"\\n\")"
   ]
  },
  {
   "cell_type": "code",
   "execution_count": null,
   "metadata": {},
   "outputs": [],
   "source": []
  },
  {
   "cell_type": "code",
   "execution_count": null,
   "metadata": {},
   "outputs": [],
   "source": []
  },
  {
   "cell_type": "code",
   "execution_count": null,
   "metadata": {},
   "outputs": [],
   "source": []
  },
  {
   "cell_type": "code",
   "execution_count": null,
   "metadata": {},
   "outputs": [],
   "source": []
  },
  {
   "cell_type": "code",
   "execution_count": null,
   "metadata": {},
   "outputs": [],
   "source": []
  },
  {
   "cell_type": "code",
   "execution_count": null,
   "metadata": {},
   "outputs": [],
   "source": []
  },
  {
   "cell_type": "code",
   "execution_count": null,
   "metadata": {},
   "outputs": [],
   "source": []
  },
  {
   "cell_type": "code",
   "execution_count": null,
   "metadata": {},
   "outputs": [],
   "source": []
  },
  {
   "cell_type": "code",
   "execution_count": null,
   "metadata": {},
   "outputs": [],
   "source": []
  }
 ],
 "metadata": {
  "kernelspec": {
   "display_name": "Python 3",
   "language": "python",
   "name": "python3"
  },
  "language_info": {
   "codemirror_mode": {
    "name": "ipython",
    "version": 3
   },
   "file_extension": ".py",
   "mimetype": "text/x-python",
   "name": "python",
   "nbconvert_exporter": "python",
   "pygments_lexer": "ipython3",
   "version": "3.7.3"
  }
 },
 "nbformat": 4,
 "nbformat_minor": 2
}
